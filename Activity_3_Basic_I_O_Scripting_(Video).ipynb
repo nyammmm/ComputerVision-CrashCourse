{
  "nbformat": 4,
  "nbformat_minor": 0,
  "metadata": {
    "colab": {
      "provenance": [],
      "collapsed_sections": [
        "0a_P1hg9HSXL",
        "_YQOlAY8KGZm",
        "1RIFMXY7MuGB",
        "XuMkv4fKNGoo"
      ],
      "include_colab_link": true
    },
    "kernelspec": {
      "name": "python3",
      "display_name": "Python 3"
    },
    "language_info": {
      "name": "python"
    }
  },
  "cells": [
    {
      "cell_type": "markdown",
      "metadata": {
        "id": "view-in-github",
        "colab_type": "text"
      },
      "source": [
        "<a href=\"https://colab.research.google.com/github/nyammmm/ComputerVision-CrashCourse/blob/main/Activity_3_Basic_I_O_Scripting_(Video).ipynb\" target=\"_parent\"><img src=\"https://colab.research.google.com/assets/colab-badge.svg\" alt=\"Open In Colab\"/></a>"
      ]
    },
    {
      "cell_type": "markdown",
      "source": [
        "Technological Institute of the Philippines | Quezon City - Computer Engineering\n",
        "--- | ---\n",
        "Course Code: | CPE 313\n",
        "Code Title: | Data Science 3 - Advanced Machine Learning and Deep Learning\n",
        "2nd Semester | AY 2024-2025\n",
        "<hr> | <hr>\n",
        "<u>**ACTIVITY NO. 6** | **Face Detection using OpenCV**\n",
        "**Name** | Dolores, Marc Joseph S.\n",
        "**Section** | CPE31S3\n",
        "**Date Performed**: | Feb 21, 2025\n",
        "**Date Submitted**: | Feb 21, 2025\n",
        "**Instructor**: | Engr. Roman M. Richard\n",
        "\n",
        "<hr>"
      ],
      "metadata": {
        "id": "Hj9Q5rZAFAlM"
      }
    },
    {
      "cell_type": "markdown",
      "source": [
        "## 1. Objectives"
      ],
      "metadata": {
        "id": "ElMxAUPJGYLw"
      }
    },
    {
      "cell_type": "markdown",
      "source": [
        "This activity aims to introduce students to OpenCV's I/O Functionality for video processing."
      ],
      "metadata": {
        "id": "dr0bUEs1nxE0"
      }
    },
    {
      "cell_type": "markdown",
      "source": [
        "## 2. Intended Learning Outcomes (ILOs)\n",
        "After this activity, the students should be able to:\n",
        "* Read and write video files using openCV.\n",
        "* Utilize openCV to capture and display images and videos."
      ],
      "metadata": {
        "id": "do-8nSpXFpyd"
      }
    },
    {
      "cell_type": "markdown",
      "source": [
        "## 3. Procedures and Outputs"
      ],
      "metadata": {
        "id": "X-RNZovNGV9k"
      }
    },
    {
      "cell_type": "markdown",
      "source": [
        "**NOTE:** For this laboratory activity, it is recommended that you download and run the Python notebook on *Spyder IDE*. You must install dependencies by running `!pip install numpy` and `!pip install opencv-python==4.6.0.66`."
      ],
      "metadata": {
        "id": "rGqUyBbHlhaP"
      }
    },
    {
      "cell_type": "markdown",
      "source": [
        "### Reading/Writing a Video File"
      ],
      "metadata": {
        "id": "0a_P1hg9HSXL"
      }
    },
    {
      "cell_type": "markdown",
      "source": [
        "OpenCV provides the `VideoCapture` and `VideoWriter` classes that support various video file formats. The supported formats vary by system but should always include an AVI. Via its `read()` method, a `VideoCapture` class may be polled for new frames until it reaches the end of its video file. Each frame is an image in a BGR format.\n",
        "\n",
        "Conversely, an image may be passed to the `write()` method of the `VideoWriter` class, which appends the image to a file in VideoWriter. Let's look at an example that reads frames from one AVI file and writes them to another with a YUV encoding:"
      ],
      "metadata": {
        "id": "M6iPo_ddHXh6"
      }
    },
    {
      "cell_type": "code",
      "execution_count": null,
      "metadata": {
        "id": "c4TmUw_BEeUc"
      },
      "outputs": [],
      "source": [
        "import cv2\n",
        "\n",
        "videoCapture = cv2.VideoCapture('MyInputVid.avi')\n",
        "\n",
        "fps = videoCapture.get(cv2.CAP_PROP_FPS)\n",
        "size = (int(videoCapture.get(cv2.CAP_PROP_FRAME_WIDTH)),\n",
        "        int(videoCapture.get(cv2.CAP_PROP_FRAME_HEIGHT)))\n",
        "\n",
        "videoWriter = cv2.VideoWriter(\n",
        "    'MyOutputVid.avi', cv2.VideoWriter_fourcc('I', '4', '2', '0'),\n",
        "    fps, size)\n",
        "\n",
        "success, frame = videoCapture.read()\n",
        "while success: # Loop until there are no more frames\n",
        "  videoWriter.write(frame)\n",
        "  success, frame = videoCapture.read()"
      ]
    },
    {
      "cell_type": "markdown",
      "source": [
        "The arguments to the VideoWriter class constructor deserve special attention. A video's filename must be specified. Any preexisting file with this name is overwritten. A video codec must also be specified. The available codecs may vary from system to system. These are the options that are included:\n",
        "* `cv2.VideoWriter_fourcc('I','4','2','0')`: This option is an uncompressed YUV encoding, 4:2:0 chroma subsampled. This encoding is widely compatible but produces large files. The file extension should be .avi.\n",
        "* `cv2.VideoWriter_fourcc('P','I','M','1')`: This option is MPEG-1. The file extension should be .avi.\n",
        "* `cv2.VideoWriter_fourcc('X','V','I','D')`: This option is MPEG-4 and a preferred option if you want the resulting video size to be average. The file\n",
        "extension should be .avi.\n",
        "* `cv2.VideoWriter_fourcc('T','H','E','O')`: This option is Ogg Vorbis. The file extension should be .ogv.\n",
        "* `cv2.VideoWriter_fourcc('F','L','V','1')`: This option is a Flash video. The file extension should be .flv.\n",
        "\n",
        "A frame rate and frame size must be specified too. Since we are copying video frames from another video, these properties can be read from the get() method\n",
        "of the VideoCapture class."
      ],
      "metadata": {
        "id": "8P6hYs7TJwNe"
      }
    },
    {
      "cell_type": "markdown",
      "source": [
        "### Capturing camera frames"
      ],
      "metadata": {
        "id": "_YQOlAY8KGZm"
      }
    },
    {
      "cell_type": "markdown",
      "source": [
        "A stream of camera frames is represented by the VideoCapture class too. However, for a camera, we construct a VideoCapture class by passing the camera's device index instead of a video's filename. Let's consider an example that captures 10 seconds of video from a camera and writes it to an AVI file:"
      ],
      "metadata": {
        "id": "0Aex22DkKJG9"
      }
    },
    {
      "cell_type": "code",
      "source": [
        "import cv2\n",
        "\n",
        "cameraCapture = cv2.VideoCapture(0)\n",
        "fps = 30 # an assumption\n",
        "\n",
        "size = (int(cameraCapture.get(cv2.CAP_PROP_FRAME_WIDTH)),\n",
        "        int(cameraCapture.get(cv2.CAP_PROP_FRAME_HEIGHT)))\n",
        "\n",
        "videoWriter = cv2.VideoWriter(\n",
        "    'MyOutputVid.avi', cv2.VideoWriter_fourcc('I', '4', '2', '0'),\n",
        "    fps, size)\n",
        "\n",
        "success, frame = cameraCapture.read()\n",
        "numFramesRemaining = 10 * fps - 1\n",
        "\n",
        "while success and numFramesRemaining > 0:\n",
        "  videoWriter.write(frame)\n",
        "  success, frame = cameraCapture.read()\n",
        "  numFramesRemaining -= 1\n",
        "\n",
        "cameraCapture.release()"
      ],
      "metadata": {
        "id": "wTDi4mPFK1ud"
      },
      "execution_count": null,
      "outputs": []
    },
    {
      "cell_type": "markdown",
      "source": [
        "Unfortunately, the `get()` method of a VideoCapture class does not return an accurate value for the camera's frame rate; it always returns 0. The official\n",
        "documentation at http://docs.opencv.org/modules/highgui/doc/reading_ and_writing_images_and_video.html reads:\n",
        "\n",
        "> \"When querying a property that is not supported by the backend used by the VideoCapture class, value 0 is returned.\"\n",
        "\n",
        "This occurs most commonly on systems where the driver only supports basic functionalities. For the purpose of creating an appropriate VideoWriter class for the camera, we have to either make an assumption about the frame rate (as we did in the code previously) or measure it using a timer."
      ],
      "metadata": {
        "id": "nm43aVOVL8Sr"
      }
    },
    {
      "cell_type": "markdown",
      "source": [
        "The `read()` method is inappropriate when we need to synchronize a set of cameras or a multihead camera (such as a stereo camera or Kinect). Then, we use the `grab()` and `retrieve()` methods instead. For a set of cameras, we use this code:"
      ],
      "metadata": {
        "id": "YWtfP2CdMh16"
      }
    },
    {
      "cell_type": "code",
      "source": [
        "\"\"\"\n",
        "\n",
        "success0 = cameraCapture0.grab()\n",
        "success1 = cameraCapture1.grab()\n",
        "if success0 and success1:\n",
        "  frame0 = cameraCapture0.retrieve()\n",
        "  frame1 = cameraCapture1.retrieve()\n",
        "\n",
        "\"\"\""
      ],
      "metadata": {
        "id": "X8pO75o0Mo9R"
      },
      "execution_count": null,
      "outputs": []
    },
    {
      "cell_type": "markdown",
      "source": [
        "### Displaying images in a window"
      ],
      "metadata": {
        "id": "1RIFMXY7MuGB"
      }
    },
    {
      "cell_type": "markdown",
      "source": [
        "One of the most basic operations in OpenCV is displaying an image. This can be done with the imshow() function. If you come from any other GUI framework\n",
        "background, you would think it sufficient to call imshow() to display an image. This is only partially true: the image will be displayed, and will disappear immediately. This is by design, to enable the constant refreshing of a window frame when working\n",
        "with videos. Here's a very simple example code to display an image:"
      ],
      "metadata": {
        "id": "WxLV090lMwPQ"
      }
    },
    {
      "cell_type": "code",
      "source": [
        "import cv2\n",
        "import numpy as np\n",
        "\n",
        "img = cv2.imread('my-image.png')\n",
        "cv2.imshow('my imgae', img)\n",
        "cv2.waitKey()\n",
        "cv2.destroyAllWindows()"
      ],
      "metadata": {
        "id": "t-AQAy_eMzp5"
      },
      "execution_count": null,
      "outputs": []
    },
    {
      "cell_type": "markdown",
      "source": [
        "The `imshow()` function takes two parameters: the name of the frame in which we want to display the image, and the image itself. We'll talk about `waitKey()` in more detail when we explore the displaying of frames in a window.\n",
        "\n",
        "The aptly named `destroyAllWindows()` function disposes of all the windows created by OpenCV."
      ],
      "metadata": {
        "id": "B4GMdJObM9VQ"
      }
    },
    {
      "cell_type": "markdown",
      "source": [
        "### Displaying camera frames in a window"
      ],
      "metadata": {
        "id": "XuMkv4fKNGoo"
      }
    },
    {
      "cell_type": "markdown",
      "source": [
        "OpenCV allows named windows to be created, redrawn, and destroyed using the `namedWindow()`, `imshow()`, and `destroyWindow()` functions. Also, any window may capture keyboard input via the `waitKey()` function and mouse input via the `setMouseCallback()` function. Let's look at an example where we show the frames of a live camera input:"
      ],
      "metadata": {
        "id": "Z1_PeWA1NJ7x"
      }
    },
    {
      "cell_type": "code",
      "source": [
        "import cv2\n",
        "\n",
        "clicked = False\n",
        "\n",
        "def onMouse(event, x, y, flags, param):\n",
        "  global clicked\n",
        "  if event == cv2.EVENT_LBUTTONUP:\n",
        "    clicked = True\n",
        "\n",
        "cameraCapture = cv2.VideoCapture(0)\n",
        "cv2.namedWindow('MyWindow')\n",
        "cv2.setMouseCallback('MyWindow', onMouse)\n",
        "\n",
        "print('Showing camera feed. Click window or press any key to stop.')\n",
        "\n",
        "success, frame = cameraCapture.read()\n",
        "\n",
        "while success and cv2.waitKey(1) == -1 and not clicked:\n",
        "  cv2.imshow('MyWindow', frame)\n",
        "  success, frame = cameraCapture.read()\n",
        "\n",
        "cv2.destroyWindow('MyWindow')\n",
        "cameraCapture.release()"
      ],
      "metadata": {
        "id": "OrBPLsvBNQLg"
      },
      "execution_count": null,
      "outputs": []
    },
    {
      "cell_type": "markdown",
      "source": [
        "The argument for `waitKey()` is a number of milliseconds to wait for keyboard input. The return value is either `-1` (meaning that no key has been pressed) or an ASCII keycode, such as `27` for Esc. For a list of ASCII keycodes, see http://www.asciitable.com/. Also, note that Python provides a standard function, `ord()`, which can convert a character to its ASCII keycode. For example, `ord('a')` returns `97`."
      ],
      "metadata": {
        "id": "8Sbqf0tMOE0_"
      }
    },
    {
      "cell_type": "markdown",
      "source": [
        "OpenCV's window functions and `waitKey()` are interdependent. OpenCV windows are only updated when `waitKey()` is called, and `waitKey()` only captures input when an OpenCV window has focus.\n",
        "\n",
        "The mouse callback passed to `setMouseCallback()` should take five arguments, as seen in our code sample. The callback's param argument is set as an optional third argument to `setMouseCallback()`. By default, it is 0. The callback's event argument is one of the following actions:\n",
        "\n",
        "* `cv2.EVENT_MOUSEMOVE`: This event refers to mouse movement\n",
        "* `cv2.EVENT_LBUTTONDOWN`: This event refers to the left button down\n",
        "* `cv2.EVENT_RBUTTONDOWN`: This refers to the right button down\n",
        "* `cv2.EVENT_MBUTTONDOWN`: This refers to the middle button down\n",
        "* `cv2.EVENT_LBUTTONUP`: This refers to the left button up\n",
        "* `cv2.EVENT_RBUTTONUP`: This event refers to the right button up\n",
        "* `cv2.EVENT_MBUTTONUP`: This event refers to the middle button up\n",
        "* `cv2.EVENT_LBUTTONDBLCLK`: This event refers to the left button being double-clicked\n",
        "* `cv2.EVENT_RBUTTONDBLCLK`: This refers to the right button being double-clicked\n",
        "* `cv2.EVENT_MBUTTONDBLCLK`: This refers to the middle button being double-clicked"
      ],
      "metadata": {
        "id": "JpZ3cXeaPKxF"
      }
    },
    {
      "cell_type": "markdown",
      "source": [
        "The mouse callback's flags argument may be some bitwise combination of the following events:\n",
        "\n",
        "* `cv2.EVENT_FLAG_LBUTTON`: This event refers to the left button being pressed\n",
        "* `cv2.EVENT_FLAG_RBUTTON`: This event refers to the right button being pressed\n",
        "* `cv2.EVENT_FLAG_MBUTTON`: This event refers to the middle button being pressed\n",
        "* `cv2.EVENT_FLAG_CTRLKEY`: This event refers to the Ctrl key being pressed\n",
        "* `cv2.EVENT_FLAG_SHIFTKEY`: This event refers to the Shift key being pressed\n",
        "* `cv2.EVENT_FLAG_ALTKEY`: This event refers to the Alt key being pressed"
      ],
      "metadata": {
        "id": "mac_puc9PpFM"
      }
    },
    {
      "cell_type": "markdown",
      "source": [
        "Unfortunately, OpenCV does not provide any means of handling window events. For example, we cannot stop our application when a window's close button is\n",
        "clicked. Due to OpenCV's limited event handling and GUI capabilities, many developers prefer to integrate it with other application frameworks."
      ],
      "metadata": {
        "id": "8Ox0ewgrPlCM"
      }
    },
    {
      "cell_type": "markdown",
      "source": [
        "## 4. Supplementary Activity"
      ],
      "metadata": {
        "id": "Mkyd0KjtGl79"
      }
    },
    {
      "cell_type": "markdown",
      "source": [
        "Perform each of the following tasks.\n",
        "\n",
        "1. Try reading and writing a video file in various formats.\n",
        "2. Similar to activity #1, show an image of your favorite character on a window. Afterwards, slice so that only the character's face is displayed.\n",
        "3. Capture video from your webcam and display on a window. Afterwards, the video should be written as a new file."
      ],
      "metadata": {
        "id": "RbaLZ7KTQIfT"
      }
    },
    {
      "cell_type": "code",
      "source": [
        "def play_video(input_file):\n",
        "    cap = cv2.VideoCapture(input_file)\n",
        "    while cap.isOpened():\n",
        "        ret, frame = cap.read()\n",
        "        if not ret:\n",
        "            break\n",
        "        cv2.imshow('Video', frame)\n",
        "        if cv2.waitKey(25) & 0xFF == ord('q'):\n",
        "            break\n",
        "    cap.release()\n",
        "    cv2.destroyAllWindows()"
      ],
      "metadata": {
        "id": "jbvZA91r4LLR"
      },
      "execution_count": null,
      "outputs": []
    },
    {
      "cell_type": "code",
      "source": [
        "import cv2\n",
        "img = cv2.imread('/content/Pikachu.jpg')\n",
        "x, y, w, h = 40,30,95,95\n",
        "roi = img[y:y+h, x:x+w]\n",
        "cv2.imwrite('Character_head.png', roi)\n",
        "roi"
      ],
      "metadata": {
        "colab": {
          "base_uri": "https://localhost:8080/",
          "height": 135
        },
        "id": "C9oLHOSk4sHv",
        "outputId": "d81a29a5-c199-4208-f6bf-6c189712c14d"
      },
      "execution_count": null,
      "outputs": [
        {
          "output_type": "execute_result",
          "data": {
            "text/plain": [
              "array([[[ 18, 235, 251],\n",
              "        [ 12, 232, 248],\n",
              "        [  0, 229, 243],\n",
              "        ...,\n",
              "        [255, 255, 255],\n",
              "        [255, 255, 255],\n",
              "        [255, 255, 255]],\n",
              "\n",
              "       [[  8, 230, 248],\n",
              "        [  0, 237, 252],\n",
              "        [  0, 236, 247],\n",
              "        ...,\n",
              "        [255, 255, 255],\n",
              "        [255, 255, 255],\n",
              "        [255, 255, 255]],\n",
              "\n",
              "       [[  2, 228, 247],\n",
              "        [  3, 230, 247],\n",
              "        [  2, 230, 247],\n",
              "        ...,\n",
              "        [250, 255, 255],\n",
              "        [253, 253, 255],\n",
              "        [255, 252, 255]],\n",
              "\n",
              "       ...,\n",
              "\n",
              "       [[249, 255, 253],\n",
              "        [255, 251, 255],\n",
              "        [255, 254, 255],\n",
              "        ...,\n",
              "        [ 11, 206, 240],\n",
              "        [  3, 201, 227],\n",
              "        [  0, 200, 216]],\n",
              "\n",
              "       [[250, 255, 251],\n",
              "        [255, 252, 255],\n",
              "        [250, 255, 255],\n",
              "        ...,\n",
              "        [  8, 189, 235],\n",
              "        [  0, 194, 232],\n",
              "        [  0, 201, 232]],\n",
              "\n",
              "       [[252, 255, 251],\n",
              "        [255, 252, 255],\n",
              "        [246, 255, 255],\n",
              "        ...,\n",
              "        [ 25, 195, 237],\n",
              "        [ 14, 202, 237],\n",
              "        [ 22, 203, 235]]], dtype=uint8)"
            ],
            "text/html": [
              "<style>\n",
              "      .ndarray_repr .ndarray_raw_data {\n",
              "        display: none;\n",
              "      }\n",
              "      .ndarray_repr.show_array .ndarray_raw_data {\n",
              "        display: block;\n",
              "      }\n",
              "      .ndarray_repr.show_array .ndarray_image_preview {\n",
              "        display: none;\n",
              "      }\n",
              "      </style>\n",
              "      <div id=\"id-9902cba6-7395-459d-a61c-aafbb89c0c84\" class=\"ndarray_repr\"><pre>ndarray (95, 95, 3) <button style=\"padding: 0 2px;\">show data</button></pre><img src=\"data:image/png;base64,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\" class=\"ndarray_image_preview\" /><pre class=\"ndarray_raw_data\">array([[[ 18, 235, 251],\n",
              "        [ 12, 232, 248],\n",
              "        [  0, 229, 243],\n",
              "        ...,\n",
              "        [255, 255, 255],\n",
              "        [255, 255, 255],\n",
              "        [255, 255, 255]],\n",
              "\n",
              "       [[  8, 230, 248],\n",
              "        [  0, 237, 252],\n",
              "        [  0, 236, 247],\n",
              "        ...,\n",
              "        [255, 255, 255],\n",
              "        [255, 255, 255],\n",
              "        [255, 255, 255]],\n",
              "\n",
              "       [[  2, 228, 247],\n",
              "        [  3, 230, 247],\n",
              "        [  2, 230, 247],\n",
              "        ...,\n",
              "        [250, 255, 255],\n",
              "        [253, 253, 255],\n",
              "        [255, 252, 255]],\n",
              "\n",
              "       ...,\n",
              "\n",
              "       [[249, 255, 253],\n",
              "        [255, 251, 255],\n",
              "        [255, 254, 255],\n",
              "        ...,\n",
              "        [ 11, 206, 240],\n",
              "        [  3, 201, 227],\n",
              "        [  0, 200, 216]],\n",
              "\n",
              "       [[250, 255, 251],\n",
              "        [255, 252, 255],\n",
              "        [250, 255, 255],\n",
              "        ...,\n",
              "        [  8, 189, 235],\n",
              "        [  0, 194, 232],\n",
              "        [  0, 201, 232]],\n",
              "\n",
              "       [[252, 255, 251],\n",
              "        [255, 252, 255],\n",
              "        [246, 255, 255],\n",
              "        ...,\n",
              "        [ 25, 195, 237],\n",
              "        [ 14, 202, 237],\n",
              "        [ 22, 203, 235]]], dtype=uint8)</pre></div><script>\n",
              "      (() => {\n",
              "      const titles = ['show data', 'hide data'];\n",
              "      let index = 0\n",
              "      document.querySelector('#id-9902cba6-7395-459d-a61c-aafbb89c0c84 button').onclick = (e) => {\n",
              "        document.querySelector('#id-9902cba6-7395-459d-a61c-aafbb89c0c84').classList.toggle('show_array');\n",
              "        index = (++index) % 2;\n",
              "        document.querySelector('#id-9902cba6-7395-459d-a61c-aafbb89c0c84 button').textContent = titles[index];\n",
              "        e.preventDefault();\n",
              "        e.stopPropagation();\n",
              "      }\n",
              "      })();\n",
              "    </script>"
            ]
          },
          "metadata": {},
          "execution_count": 5
        }
      ]
    },
    {
      "cell_type": "code",
      "source": [
        "def capture_video(output_file):\n",
        "    cap = cv2.VideoCapture(0)\n",
        "    fourcc = cv2.VideoWriter_fourcc(*'XVID')\n",
        "    out = cv2.VideoWriter(output_file, fourcc, 20.0, (640, 480))\n",
        "    while cap.isOpened():\n",
        "        ret, frame = cap.read()\n",
        "        if not ret:\n",
        "            break\n",
        "        out.write(frame)\n",
        "        cv2.imshow('Webcam', frame)\n",
        "        if cv2.waitKey(1) & 0xFF == ord('q'):\n",
        "            break\n",
        "    cap.release()\n",
        "    out.release()\n",
        "    cv2.destroyAllWindows()"
      ],
      "metadata": {
        "id": "lQmjrwGb4vh1"
      },
      "execution_count": null,
      "outputs": []
    },
    {
      "cell_type": "markdown",
      "source": [
        "## 5. Summary, Conclusions and Lessons Learned"
      ],
      "metadata": {
        "id": "KQspxP0IGoO1"
      }
    },
    {
      "cell_type": "markdown",
      "source": [
        "This exercise aims to instruct students on using OpenCV's video I/O capabilities. For this, students must read a video file, write a video file, and work with raw frames; finally, they are to access the video data using numpy.array. During this exercise, there were several ways to go wrong: failure to fully understand the code or confusion about the functions. However, these issues were resolved, and the task was successfully completed. From this exercise, I learned OpenCV's video I/O functionality, which will be useful in future projects.\n",
        "\n"
      ],
      "metadata": {
        "id": "KvcmGICAoj1a"
      }
    },
    {
      "cell_type": "markdown",
      "source": [
        "<hr/>\n",
        "\n",
        "***Proprietary Clause***\n",
        "\n",
        "*Property of the Technological Institute of the Philippines (T.I.P.). No part of the materials made and uploaded in this learning management system by T.I.P. may be copied, photographed, printed, reproduced, shared, transmitted, translated, or reduced to any electronic medium or machine-readable form, in whole or in part, without the prior consent of T.I.P.*"
      ],
      "metadata": {
        "id": "EqlVIPSqolAC"
      }
    }
  ]
}