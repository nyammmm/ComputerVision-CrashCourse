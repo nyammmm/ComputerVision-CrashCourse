{
  "cells": [
    {
      "cell_type": "markdown",
      "metadata": {
        "id": "view-in-github",
        "colab_type": "text"
      },
      "source": [
        "<a href=\"https://colab.research.google.com/github/nyammmm/ComputerVision-CrashCourse/blob/main/Activity_7_Performing_Face_Recognition.ipynb\" target=\"_parent\"><img src=\"https://colab.research.google.com/assets/colab-badge.svg\" alt=\"Open In Colab\"/></a>"
      ]
    },
    {
      "cell_type": "markdown",
      "metadata": {
        "id": "Hj9Q5rZAFAlM"
      },
      "source": [
        "Technological Institute of the Philippines | Quezon City - Computer Engineering\n",
        "--- | ---\n",
        "Course Code: | CPE 313\n",
        "Code Title: | Data Science 3 - Advanced Machine Learning and Deep Learning\n",
        "2nd Semester | AY 2024-2025\n",
        "<u>**ACTIVITY NO. 6** | **Face Detection using OpenCV**\n",
        "**Name** | Dolores, Marc Joseph S.\n",
        "**Section** | CPE31S3\n",
        "**Date Performed**: | Feb 21, 2025\n",
        "**Date Submitted**: | Feb 21, 2025\n",
        "**Instructor**: | Engr. Roman M. Richard\n",
        "\n",
        "<hr>"
      ]
    },
    {
      "cell_type": "markdown",
      "metadata": {
        "id": "ElMxAUPJGYLw"
      },
      "source": [
        "## 1. Objectives"
      ]
    },
    {
      "cell_type": "markdown",
      "metadata": {
        "id": "dr0bUEs1nxE0"
      },
      "source": [
        "This activity aims to enable students to perform data preparation and face recognition on their own generated dataset."
      ]
    },
    {
      "cell_type": "markdown",
      "metadata": {
        "id": "do-8nSpXFpyd"
      },
      "source": [
        "## 2. Intended Learning Outcomes (ILOs)\n",
        "After this activity, the students should be able to:\n",
        "* Utilize data preparation techniques for images.\n",
        "* Perform Face Recognition using multiple algorithms.\n",
        "* Evaluate the performance of different algorithms."
      ]
    },
    {
      "cell_type": "markdown",
      "metadata": {
        "id": "X-RNZovNGV9k"
      },
      "source": [
        "## 3. Procedures and Outputs"
      ]
    },
    {
      "cell_type": "markdown",
      "metadata": {
        "id": "lBQh8Eyf1EHC"
      },
      "source": [
        "### Preparing the training data"
      ]
    },
    {
      "cell_type": "markdown",
      "metadata": {
        "id": "hpAAiS_V1Jfy"
      },
      "source": [
        "Now that we have our data, we need to load these sample pictures into our face recognition algorithms. All face recognition algorithms take two parameters in their `train()` method: an array of images and an array of labels. What do these labels represent? They are the IDs of a certain individual/face so that when face recognition is performed, we not only know the person was recognized but also who—among the many people available in our database—the person is.\n",
        "\n",
        "To do that, we need to create a comma-separated value (CSV) file, which will contain the path to a sample picture followed by the ID of that person."
      ]
    },
    {
      "cell_type": "markdown",
      "metadata": {
        "id": "sWqIq9Sz1Svi"
      },
      "source": [
        "**Include a Screenshot of Your Dataset Here**"
      ]
    },
    {
      "cell_type": "markdown",
      "source": [
        "![Screenshot 2025-02-21 211756.png](data:image/png;base64,iVBORw0KGgoAAAANSUhEUgAAAWgAAAFnCAYAAACLs9MAAAAAAXNSR0IArs4c6QAAAARnQU1BAACxjwv8YQUAAAAJcEhZcwAADsMAAA7DAcdvqGQAAFcGSURBVHhe7b0PbFxHnt/5HVsyZLXJkVoLSaatlUlpoeUeJBpMC7TG0oS0sBTWo7FAyoCGOmh8DtF7w72IGUBUHMjxpnU6+Q4xhZypBbhYgvElMMYwMBAhHBElxF1Iw4OxheUZphWEMU4iscNYK/KOvTlyWjMa6nxXv3r1uqvqvdf9mv1HT+TvQzTAev3eq+rqrm/96ldV7/ednTt3/n9gGIZhIsO2bdvw61//Gk+oNMMwDBMxWKAZhmEiCgs0wzBMRGGBZhiGiSgs0AzDMBGFBZphGCaisEAzDMNElEgIdPfVUYxe7VYphmEYhmALmmEYJqI8pgLdjYHRUQwkVbIqtCL1s1F8/E6rSjMMw1SWYIH+w2689y968b2YSuch9scXMPjPf4xGlWYYhmFKJ/BZHLHnj+P8//gTNGXG8N65Afwyo96wiP1xHwb+rBVPTQ7gJ5fHEHCaBlm/HWhQKcyOYAQd4m8Ex88Oq4PWOZjByPFeyHeTAxg9kXuHmLl+HL1D4p+2FD4+l0C2T1maRP/pFCZUstD7re98jL6WXI8UeF9B5mY/Tl3K3plhGKZsFHwWR+Y/jyL107/EVKwd56/4W9KrFecdQtyOHz8uX/0L7eioV28rWt9pQvqK8z69RmYb0PGzFKRzYahXHBsRku0IKL0vRVTQ3RnHmLrm+PF+TCKBvuzko8hbiOy8uka+v6jeEkhxbpxGv3v9lUnsOKHcKOMpnKLzlxxhpvdZnBmGqTT5fdCLQqR/MuAr0o44vwz8Mqw4kwi2o0FYrYOauE1cOiUEWCUUE5d6kRpXCcHwV0KOa+PYo9JBDJ9VVrZkAhPTolTbdjnC3rYLO0Qp07flm4IJpM661nM3OluAySHN2haiPCbK1XCAV5cwDPNoKDxJmBnziHTsUC/6pTgPove9cOJM7NkeQ2ZaCKdK54Ms2tHRUedluTTyIZfsqet0d4UjuDEkzvks6ZPird5z8xQv27JnGIapJuFWcSiR/uunSaQH0P+P24B//15R4hweZ4WG4W64Tg6NApCfmESVfNnquv6bZumGz9Lxfkxu63BE2BBq8nOr/PRX1i/OMAxTXcIJNCFE+t0/EyK9cQdWhDj3Xf3lqsQ51tjquByytGLXNvUvkWxCA4mlPrkXgtbDjYjRpF9BQZ1A6rQQXhL9+ibRHQjG5zAvcm2q6rI9hmGY/IQXaIJEuvsUelcpzsPXJpGpTaBHW0vc+k4PErUqQdxOi3vvwC5hpDsIi9rj4riD9BKwY2fuPhP35k0/tbCoe3QXh0gPBK5hHsYU+ZtPDDiCrWh9ZwCpbDkmMLcoOpjthTzhDMMw5aH6Ia+sJWu0KmJse5+xzM5c7ias6etAxwnkltoRydxyO3c5HPmfs35jYU2PTDeig1wlZI17lsppS/cUxvXErL70T6Ddg5fZMQxTKdxldhyTkGEYJmJwTEKGYZiIwwLNMAwTUVigGYZhIgoLNMMwTERhgWYYhokoLNAMwzARhQWaYRgmonznj/YfKLgOOr51K9J/93cqxTAMw1SS73z7//I6aIZhmCjDAs0wDBNRWKAZhmEiCgs0wzBMRGGBZhiGiSBLS0ss0AzDMFHkySefZIFmGIaJIpEX6K6L/xL/+gPxuvpTHFLHPHSlxDl/gXPfU+lKIvNKoUslGYZhKsWmTZuiK9CH/tFf4E/iX2HwzX+AH5/9n/GZOh5dTuFStToKhmHWBaUL9J5TeOfP30Ris0rnYfOR/w7/04VO/IFK5+OFuLhh+m8LC/NHKfz4zX+IK79U6WrzvZ/iL8nK/+AYdqtDDMMw5aBkgd58///G/fgR9PzT/CK9+cif4tKZv4fY0v+Fb9Sxx5+XcK7rAPDlX+HHQ1/hvjrKMAxTDsrzLI6tR3Hun/3X+KP7n2Lwf/gAk5ZSOeL8Ep766gO89RefFhSyS8Ii1a3R+0IAf/LXL+Evk3vxf47dxh+0H8Bm/Ao33kzhI/ILt8P5X50vrdoknaP41b/Dj//ZxyohRPXqn+IPbv8VPon/Kf7k99XhX3+FQcuVQj7w7PuU3xjwJ3ZeLjJPUb6hR2jNMwyzJijvszj+7n/HlQsf4D9u9lrSruWML8KJM/HOm/8AN34l/iFhFf//5P3PnTeE5DZ9D/hX5Jf2E0kiK5R0Dr3+ClPxY/jXF0+pExw2v/in+KP/5J7z7/A3zxzAG//oJfWuEmfXB06vof+Cv9+eVWuGYZiKU75JQmE92yK9+e+9iT+X4vwh3vnLcOJciL/5Zf4Jw65j5HL4ULNiPxf/C7X//UZz9YUQ/3eyCv8x/s2X97F570vOahEh8n//9+9j6iMtL5HvT8ao12AYhqkO5V3FoUR6ahOJdAp//t8Ki/SXf1U2cRYZ4L/8jfrXl5dQF3esY7k8z335WL7303lutHsLNv/6Nn7JrgqGYR4h5RVoQoj0wD8VIr3x97AixPm//1/+jzKJc3j+Zsx1XeivAJcIwzBMRCm/QBMk0uf/Id6pujh/jrtpYQD/oelvXhXP7MX3rDXNh7b/nvqPYRim8lRGoB8hH/0n8jcfwyXd4fy9n+KSNgFYkI/+LaZ+vRlNXdoORnGPN17Ms46QYRimzKw5gZYbV8Z+hd3tmg86uQX/MbsSJAyf48rZv8IUDqDHvYcQ/H/Fk4QMw1QRjknIMAwTMTgmIcMwTMRhgWYYhokoLNAMwzARhQWaYRgmorBAMwzDRBQWaIZhmIjynZ07dxZcZvfss8/ib//2b1UqmLDnMQzDMMFs27aNl9kxDMNEGRZohmGYiMICzTAME1FYoBmGYSIKCzTDMExEYYFmGIaJKJVdZld7AW+/1owalczH8tT7uHzrU5ViGIZZv7jL7Koi0MufX8TPv1HHAni4cgcLD6sdHIthqkByAKMndmDyyimkxtUxhslDVQU6/cnrGLxbj7qnnlFvFOJ3WH7wNZa/VclAujEw2gFcP47eIXXk6ig66oEZ7ZiHthQ+PpdAbHYEx88Oq4M5Wt/5GH0tMZVymcHI8V54z7ZpRepnfUjUqqQgc7Mfpy5NqJRCNtoGlfApr/W+X/7uZ9Xx5uXUUfZO9md260IlxR28QhKiLDpUrvYFn88cSHnqzPO9+X6/Vl5Lk+g/nUIuJ6u+/OrDU2dEnjqR5WaBZsJT/Y0qdV04+l31fyGe+xF+EFbLfcgsZdBwoFulvLQebrQalws1zlH0NU6j//hxHNdeI7M7sKtNnZaPZCfi49q1VyaBlj4MJNX7RLbBqnOuz6DhxMdIZe8vRORA2ijDyGwDOn6WEu+YkJBl8xIvP3HekT1nBDP1Hfj4ndxdujvjGNOu778JJM4NiCtdwpaFhG8Uo6L+7E6jIGWpM2AP9O/N+ayjV/XfgRLnRSHc8px+TCKBPv2ctl1IC+F3y+LUh5mPAwly7rzj+TrvoV7xPoszUzxVnSRcuX8Ld3/j81p5AYcOncebh15BzQORfrCirlgdJL6Z+nafRkV0o7NFNK/ZjEq7UONVYmZYVA7DZ0M2MNEYDUt4PIWxWWgdhsinrUEI62DufuKakdkYEp3uORNInTXLMHxtEpnaRrRqIr5rm/o3gNZ32tEgLMTBrGgPo1cIW6ylMyvAw2dNYZm4NCakpwFNWXEMUxbKq0dInbBGSfSW1MGwlKXORLku6eUcxrWb4jvetktcrRAdQaJWCGvWqhafbUh8Fv23IvJOaWVx6iOG+F51gNgbD+jgGaa8RGMVx7Pfx8G6zaipO4JXnlPHSmFxTDTwGBoP2/amINkkRGsaUwsq7aIa71joYfkqaWtFY20G078w87mzYIlJSObvBZW3Fa2NMWSmJwxxxe20GLSHHA0UwcSlU74dW1koU511H2gAZqdMS3d8DvO2AIdhKY076t+CJIX1P6qNSrJpZ8RGow566SMbF3IXue/La+x7MWuaRyPQT2zGBvWv5N4X+HpxBb9dvIUvC7u6Q0FWHjRL0cGxxGaElWQ3Lt/GWxa60UQ+8a/UnaX1NY85yxqfuDcP1MbFMN0f6ZYRHctE9ro9iNcKK/NEUAN33vcIeCFBog5M2IxTukVr4S1LuSlDnbWl0NMSk9+1UwPOiCOzYH/zd5AWFv+Onf4y3321Q45Crum+7p07RL4J9OnCqd4LTwM6Rpsw5bpIlFvHcD/RHMM2GpW456TRbswFMGudRyDQ+9D28jBSR95AXB3Bykf44EYXUjcu4rOH6lipjE9gekkfqgvIEhPDcL2x6diNlyadctbLqOkTDYXjNrEbeNEkB+TkV05siGH0ug03oIEXDU1+CQHI3LwW3FH5lqWclFJnmkV6zvGtB04U50H/3mmy0x4ZyNGCVvfSJ1+0SNPko+ZeEvU5eDODWKMY+VBafBft9eKcIS1vcc6p6zMqwawHKivQS+/i8oevY3BOpbEZ+/afx7HdG7Fh9w/R+1JXVqQ3bDmJgxtVoixMIDU+gwbxQ3clq7szAdhDfo3YdtMWyzXEEWFTFgmJ3aiakCph6C+HuGpyLK/YqMar+5eLQYrSuQTmr9sTjTlCl2W1lFxneqc1hSYSWZ+J1ULoAjyInoKd8/BZ8rs3oL2ozrHAiIBGDRUdpTCPA9W1oOvexpmmLSoBbNp7Ej37j2LTlgt469UunHztPbSVU6SHrgl72Z3MomFzsI95tT5gX4SV6YqdZ5lXgA9YDpsNvyZZku4QdzUrAAKG7m27RO4ZpG+rtICEt69lXq5K8BfeUssSgrLUmY4QazGqyE1mTmBu0dsJB7qCFCTWI8aEJcNUjyoK9Fa82LzP9D0Lapp6kHq1GTVUkqfrcaz9AvY96bxXOmRFz8uZflrRsCPP0F3O1tcm0Fm0G8OChCaflRngA96zXZ/QI0Es3pI0BStAkCzLLOfnDFomtrqyFEVZ6qwwvp2w7LDy+9wLk1/kw+KZB7FWyhDyO2bWDdW1oINy049vbcaZg8+rRBkYmsJMfTt6GucLrNBwlqDRpFspflxqZMZyMA/O8q+GE5rPUghUh27dy1UL+nIwH9pSGNDLKdI0KaYLllwOV9+hDc+7MXDCmSR1zqFRheXntAlTlhIpT51Z9UEdSzJhdEZuJ9yTPc85B1rH3X3V8iXLfLQJS4F9jpxI1EVeumoKzVlYa8ntfGj0txRDIqmdo75jZv3wmIe8cjZieHYSQlh7mqCQf7Vv+1jBYw7KYnR3mrkE7Do0CbhWYu5Ik/lnG5u1Cy1JFmXAbL1bDhIBazeb7+5J6zzjHJ97ZHF32IUpi4FTB43TYXcSlqnO1G/BKKlv+czz7B2LZh6EWQZC/sb0zThuXamkW6/krpF1LesQufK66etAh1a33u/PqhvKZzyOPv1ezJqkOlu9GYZxBLktnRNxW7CLoZRrmccGjkm4SsjCcpdgmS+/7cAMsd7rrJx+48qt12eiCFvQDFNRvG64cFYwuTc6MXc6d47jfoHH5cKsPdiCZphKQn5oOUpwnu/imRsoCK3CoQ0wuREHi/P6gy1ohmGYiMEWNMMwTMRhgWYYhokoLNAMwzARhQWaYRgmorBAMwzDRBQWaIZhmIjCAs0wDBNRWKAZhmEiCgs0wzBMRGGBZhiGiSiV3epdewFvv9aMGpXMx/LU+7h861OVYhiGWb9U53nQSqCXP7+In3+jjgXwcOUOFh7eVymGWUPIp9dRSC9+0BETjqoKdPqT1zF4tx51Tz2j3ijE77D84Gssf6uSgQREVKHQQZ7oFBpuJJGAKCneqBqEHcEjCG+EEDtqh0Q22jzRNKz3/fL3RPYQePOyIo3Yn9kTVcUbQSRMWXSoXO0LYSOqEOWpM8/3lifiixGl5HRwyC+njn0+b4GyGMhzWaCZ8FT/YUl1XTj6XfV/IZ77EX4QVst9yCxl8kZhbj3c6B/mSYrZKPoap9GfDd/vvEZmvVGlfUl2Ij6uXXtlEmjpM+PTZRusOkfGQtQfXi9E5EDaKMPIrBXDTkFCls1LvPzEmR536bw/gpn6DiPmYndnHGPa9f03gcQ5PeZe2LKQ8DmPxbQ7jYKUpc4odKv+vTmfdfSq/jtQ4kwBcOU5/ZhEAn3GORqi82r3+ywhymIw1CvOY3Fmiqeqk4Qr92/h7m98Xisv4NCh83jz0CuoeSDSD1bUFauDxDdT3x7QYLrR2SIsntmMSrtQ41Vi5mNRDZ8N2cBEYzQsqfEUxoyw/SKfNitIqrhmZDYmo487TCB11iyDDABrRHluxa5t6t8AKJJ5g7AQB7Oi7QTGjbV0ZgV4+KxpGcrAqsLebsqKY5iyUF49QuooOrgQvSV1MCxlqTNRrkt6OZ1As0YUb9ERJIwAuOKzDVFgXb/fisgzmcD87IxKu4QrC8OUg2is4nj2+zhYtxk1dUfwynPqWCksjokGHkPjYdveFCSbhGhNY2pBpV1U480f+bsMyCjZGUz/wsznzoIlJiEJDvXfitZGM8q35HYaGYQcDRTBxKVTvh1bWShTnfmGixqfw7zo0uN7VVohOxxhafd+pQ64rKYsSWFxj5oRyZ20M2JzH8jvF02eXCzu+/Ia+17MmubRCPQTm7FB/Su59wW+XlzBbxdv4cvCru5QkJUHzVJ0cKyfGWGh3VFHXCoX660bTeQTd8Pp740LOZjHnGWNT9ybB2rjYpjuj3TLiI5lInvdHsRrhZV5IqiBO+97BDxAkLJQByZs6Kkgf6rAW5ZyU4Y6a0uhpyUmv2unBpwRR2bB/ubvIC0s/h07tboTItjXMq9Z2hqr/P68ULSUJky5Lhnl1jHcT+T/3kajEvecNNqNuQBmrfMIBHof2l4eRurIG4irI1j5CB/c6ELqxkV89lAdK5XxCUwv6UN1AVk/Yhh+LUB87MZLk04562XU9ImGQnQIP+uQboagPEMhBUMXG2IYvW7DDWjgRUMThkIAMjevBXdUvmUpJ6XUmWaRnnN864ETd0HIOiD/cpgJ4VKgyVgtD1GfgzcziDWKkQ+lpf9bnDOk1bM459R12+XCrGUqK9BL7+Lyh69jcE6lsRn79p/Hsd0bsWH3D9H7UldWpDdsOYmDG1WiLEwgNT6DBvFDdyWruzMB2EN+jdh20/6Rw3YpgCPCpiwSauijakKqhKG/HOKqCam8YqMar+5fLgbZGZ1LYP66PdGYI3RZVkvJdaZ3WlNoIqH2mVgNRgi8rINqTOgVsMLJUq/oKIV5HKiuBV33Ns40bVEJYNPek+jZfxSbtlzAW6924eRr76GtnCI9dE3Yy+5kFg2bg33Mq/UB+yKsTFfsPMu8AnzAMjT/UlpzvZAl6Q5xVyMYPkN3om2XyD2D9G2VFpDwyiF9oMVZallCUJY60xFiLUYVuclMCsLq7YR1V5CcVBVHdLeRs5TOCd4qRyerKgvDrI4qCvRWvNi8z/Q9C2qaepB6tRk1VJKn63Gs/QL2Pem8VzpkRc/L2XVqfDvyDN3l6oXaBDqLdmNYkNDkszIDfMB7tusTeiSIxVuSpkgECJJlmeX8nEFD+tWVpSjKUmeF8e2EZYfl+NxzIybtJV0KtA5ajSzKVBY/PPMg1koZQn7HzLqhuhZ0UG768a3NOHPweZUoA0NTmKlvR0/jfIEVGs4SNLKeSvHjUiMzlmB5cJZ/NZwwZ/VpM0S2fHKlgL4czIe2FAb0coo0TYrpIiGXw9V3aL5zMYQXFmHOf0yjCsvPaROmLCVSnjqz6oM6lmTC6IzcTrgne55zDvL53D2EK8vHwuLOP2dhrSWX99AmRmn0txRDIqmdo75jZv1Q2Z2EFcfZiOHZSQhh7WmCIneYbR8reMxBWYzarjZJwK5Dk4BrJeYOPZl/trFZO9WSZFEGzNa75SARMHYAirv47WazzjPO8blHFneHXZiyGDh10DgddidhmepM/RaMkvqWzzzPd8eijvz88OwkzFsWVa/krpF1bd/DTV8HOrS69X5/Vt3QdzIeR59PeZi1RXW2ejMM4whyWzq3pdwW7GIo5VrmsaH6W73XCGQ5ZSeQjFeerb7rnPVeZ+X0G1duvT4TRdiCZpiK4nXDhbOCyb3RibnTuXMctwoMtw+zNmELmmEqCfmh5SjBeb6LZ26gILQKx1ne5444WJzXH2xBMwzDRAy2oBmGYSIOCzTDMExEYYFmGIaJKCzQDMMwEYUFmmEYJqKwQDMMw0QUFmiGYZiIwgLNMAwTUVigGYZhIkpldxLWXsDbrzWjRiXzsTz1Pi7f+lSlGIZh1i/VedyoEujlzy/i59+oYwE8XLmDhYf3VYph1hDy4UgUMYafo8GEo6oCnf7kdQzerUfdU8+oNwrxOyw/+BrL36pkIAEP7KfIFJ6Hn2u4D6oPeAi/+TB2F/sB8UF4H0Dv+1B42WjzPKzdet8vf/ez6njzsh5kb39mz0P7zYfkS0KURYfK1b4Q9oH9RHnqzPO95QkoYDwE/3RwRBmnjv0/r51f4G9OlpsFmglP9Z/FUdeFo99V/xfiuR/hB2G13IfMUgYNB4JjW7cebvSPIiLFbBR9jdPot2LTjcx6A4X6kuxEfFy79sok0NJnhj/KNlh1jgy1pT8bWYjIgbRRhpFZK0SSgoQsm5d4+YkzPU3NeX8EM/UdRkiv7s44xrTr+28CiXNaOKfQZSHhc566ZncaBSlLnVH4V/17cz7r6FX9d6DEmeIrynP6MYkE+oxzNETn1R7wWUi47d9JoEEw1CveZ3Fmiqeqk4Qr92/h7m98Xisv4NCh83jz0CuoeSDSD1bUFauDxDdT3x7wMPhudLYIa2c2o9Iu1HiVmPlYVMNnQzYw0RiNhjqewtgstA5D5NNmxeAT14zMxmRwW4cJpM6aZZDxBY0goq3YtU39G4CMUi0sxMGsaDtxF2MtnVkBHj5rWoYybp+wt5uy4himLJRXj5A6Cj4rRG9JHQxLWepMlOuSXk4ndqARJFZ0BAkjvqL4bEMUt9HvtyLyTCYwP0tBYy2SA06g3TyWN8OUg2is4nj2+zhYtxk1dUfwynPqWCksjokGHkPjYdveFCSbhGhNY2pBpV1U480fWLYMyCCsGUz/wszHN+J0CObvBZW3Fa2NPpGmb6eRQcjRQBHIiNiVEqwy1ZlvNJKAKN2ywxGWdu9X6kAW1VkUE8FbCProqBlk1kk7Izb3ec9+wYrJUnffl9fY92LWNI9GoJ/YjA3qX8m9L/D14gp+u3gLX2ou7FIgKw+apejgNC6Kan1HHXGpXCghipwtLHY3WvPeuJCDecxZ1vjEvXmgNi6G6f5It4wWoZoG9PFaYWWeCGrgzvseAQ8QpCzUgQkbeipouC7wlqXclKHO2pwI2LkI5s6II7Ngf/N3kBYW/46dWt0JEexrmQ+IZE71Sp3FHkNcTVdKGOhh/E2Ycl0kyq1juJ/I/02WevacNNqNuQBmrfMIBHof2l4eRurIG4irI1j5CB/c6ELqxkV89lAdK5XxCUwv6UN1AVliYhh+LUB87MZLk0DZBihe+cPo+yE6hJ91SDdDUJ6hkIKhiw0xjF634QY08KKhCUMhAJmb14I7Kt+ylJNS6kyzSM85vvVAv3AQsg7I1x0wCdq2S4w/Ykic08TVx7dfGJqM1fIQ9Tl4M4NYoxj5UFr6v8U5Q1o9i3NOXfdxuTBrlsoK9NK7uPzh6xicU2lsxr7953Fs90Zs2P1D9L7UlRXpDVtO4uBGlSgLE0iNz6BB/NDdZtPdmQDyDE1j201bTA7b3QaojoWGGvqompAqYegvh7hqciyv2KjGq/uXi0F2RucSmL9uTzTmCF2W1VJynemd1hSaSKh9JlaDEQIv66DwfMPMdV3AHX93cXVfYERAo4aKjlKYx4HqWtB1b+NM0xaVADbtPYme/UexacsFvPVqF06+9h7ayinSQ9eEvexOZtGwOdjHvFofsC/CynTFzrPMK8AHLCM/L6U11wtZku4QdzUrAHyG7oS0ADNI31ZpgVyRQEN6IWz+wltqWUJQljrTEWItRhW5yUyK8efthHVXkJxUFUd0t5GzrM+JDSgtZOki8iLFlWHKTBUFeitebN5n+p4FNU09SL3ajBoqydP1ONZ+AfuedN4rHbKi5+VMPzW+HXmG7nL1Qm0CnUW7MSxIaPJZmQE+4D3b9Qk9EsTiLUlTsAIEybLMcn7OgCH9KstSFGWps8L4dsKyw3J87rkRk/aSLgVaB+2OLPw7vvydRTg88yDWShlC5sOsG6prQQflph/f2owzB59XiTIwNIWZ+nb0NM4XWKHhLEEj66kUPy41MmM5mAdnONxwwpzVp80Q2fLJVQv6cjAf2lIY0Msp0jQppguWXA5X36H5zsUQXliEOf8xjSosP6dNmLKUSHnqzKoP6liSCaMzcjvhnux5zjnI53P34LjOYi3CsHDFU9V9tl6lq6bQnIW1llx+Hm1ilEZ/SzEkkto5Kh9m/fCYR/V2NmJ4dhJCWHuaoJB/tW/7WMFjDspi1Ha1SQJ2HZoEXCsxd+jJ/LONzdqpliSLMmC23i0HiYCxA5D8oj4WqHWecY7PPbK4O+zClMXAqYPGaZ+dgL6Uqc7Ub8EoqW/5zPN8dyzqyM8P705Cq1786pXcNfKYfQ83fR3oCLqHxKob+k7G4+jzKw+zpqjOVm+GYRxBbkvnNrbYgl0MpVzLPDZUf6v3GkGudnAnkIyXue2YybHe66ycfuPKrddnoghb0AxTUbxuuHBWMLk3OjF3OneO4+KB4fZh1iZsQTNMJSE/tBwlOM93MX3LYaBVOM7yPnfEweK8/mALmmEYJmKwBc0wDBNxWKAZhmEiCgs0wzBMRGGBZhiGiSgs0AzDMBGFBZphGCaisEAzDMNEFBZohmGYiMICzTAME1FYoBmGYSJKZbd6117A2681o0Yl87E89T4u3/pUpRiGYdYv1XketBLo5c8v4uffqGMBPFy5g4WH91WKYdYQ8ul1FNKLH3TEhKOqAp3+5HUM3q1H3VPPqDcK8TssP/gay9+qZCABEVUodJAnOoWGG0kkIEqKGbnDxY7gEYQ3Qohv1A7ZaPNE07De98vf/aw63rysSCP2Z/ZEVTGjmEhClEWHytW+EDaiClGeOvN8b3kivhhRSk7rIb+8ZSH8IqbkrTMdWW4WaCY81X9YUl0Xjn5X/V+I536EH4TVch8ySxk0HAgOgN96uNE/zJMUs1H0NU6j3woeOjLrjSrtS7IT8XHt2iuTQEufGZ8u22DVOTIWov7weiESB9JGGUZmrRh2ChKybF7i5SfO9LhL5/0RzNR3GDEXuzvjGNOu778JJM5psf9Cl4WEzXkspt1pFKQsdUbxufXvzfmso1f134ESXwqAK8/pxyQS6DPOcSBBzpZHvPSOoHCdWQz1ivNYnJniqeok4cr9W7j7G5/Xygs4dOg83jz0CmoeiPSDFXXF6iDxzdS3B0Tr6EZni2iAsxmVdqHGq8TMsKgchs+GbGCiMRqW8HgKY7PQOgyRT5sVJFVcMzIbk9HHHSaQOmuWQQaANaI8t2LXNvVvABTJvEFYiINZ0XYC48ZaOrNiMnzWtIRlYFVhbzdlxTFMWSivHiF1FB1ciN6SOhiWstSZKNclvZxOoFkjirfoCBJGAFzx2YYosK7+W9mDuGU92xSuM4YpD9FYxfHs93GwbjNq6o7glefUsVJYHBMNPIbGw7a9KUg2CdGaxtSCSruoxps/8ncZkFGyM5j+hZnPnQVLTEIyfy+ovK1obTSjfEtup8WAPORooAgmLp3y7djKQpnqzDdc1Pgc5kWXHt+r0pIM0rfVv+UgKaz/UTMiuZN2RmzuA/n9osmTu8h9X15j34tZ0zwagX5iMzaofyX3vsDXiyv47eItfFnY1R0KsvKgWYoOjiVG4fHvqCMulYv11o0mPZz+3riQg3nMWdb4xL15oDYu7Dd/pFtGdCwT2escS6/hRFADd973CLivIGlQBybswSndorXwlqXclKHO2lLoaYnJ79qpAWfEkVmwv/k7SAuLf8dOVXdtu0T3JSzzc7l6NVwtfoSoMy8ULaUJU66rRLl1DPcTzTFso1GJe04a7cZcALPWeQQCvQ9tLw8jdeQNxNURrHyED250IXXjIj57qI6VyvgEppesYSdZYmIYfi2gIdmNlyad3EYaqqF6cNwm5GYIyjMUyQE5+ZUTG2IYvW7DDWjgRUOTX0IAMjevBXdUvmUpJ6XUmWaRnnP8xIbrJAzic53S61X6uvN892HqzBeaWNRcJSLfwZsZxBrFyIfS4r7t9eKcIa2eqWyiPMz6obICvfQuLn/4OgbnVBqbsW//eRzbvREbdv8QvS91ZUV6w5aTOLhRJcrCBFLjonGJH7orWd2dCcAe8mvEtpu2mBy2y4Y6IuyjIqGGO6ompEoY+sshrpocyys2qvHq/uVikJ3RuQTmr9sTjTlCl2W1lFxneqc1hSYSap+J1aIY6kW/EE79d+QSps6CKTAioFFDRUcpzONAdS3ourdxpmmLSgCb9p5Ez/6j2LTlAt56tQsnX3sPbeUU6aFrwl52J7No2BzsY16tD9gXYWW6DdezzCvAByxD8y+lNdcLWZLuEHc1KwCsobuLHMKbPlYS3r6WeYwIYfMX3lLLEoKy1JmOEGsxqshNZlIQVm8nHOgKKkDhOmOY0qmiQG/Fi837TN+zoKapB6lXm1FDJXm6HsfaL2Dfk857pUNW9Lyc6acVDTvyDEPlTHxtAp2lzsST0OSzMgN8wHu26xN6JIjFW5KmYAUIkmWZ5fycQeuaV1eWoihLnRXGtxOWHVZ+/zHlg8W5bD6F62x1eOZBrJUyhPyOmXVDdS3ooNz041ubcebg8ypRBoamMFPfjp7G+QIrNJwlaORvLMWPS43MWA7mwVn+1XDCnNXv0K17uWpBXw7mgxhyD+jlFGmaFNMFSy6Hq+/Q/KfdGDjhTJI659CowvJz2oQpS4mUp86s+qCOJZkwOiO3E+7JnuecA73jFve111/LjU/uhGWoOiNXTaE5C2stuZ0Pjf6WYkgktXPUd8ysHyq7k7DiOBsxPDsJIaw9TVDIV9i3fazgMQdlMdprYQN2HZoEXCsxd5vJ/LONzdqZlySLMmC23i0HiYCxm03cRauHLNZ5+XfEabg77MKUxcCpg8bpsDsJy1Rn6rdglNS3fOZ5nh2Lns9rliFUnalzyF0j61reE7nyuunrQIeWl/f7s+qG7j8eR59+L2ZNUp2t3gzDOILcls5tKbcFuxhKuZZ5bKj+Vu81gpy5d5dyGS9z2zGTY73XWTn9xpVbr89EEbagGaaieN1w4axgcm90Yu507hzHxQPT5cKsSdiCZphKQn5oOUpwnu/imRsoCK3Cod2GuREHi/P6gy1ohmGYiMEWNMMwTMRhgWYYhokoLNAMwzARhQWaYRgmorBAMwzDRBQWaIZhmIjCAs0wDBNRWKAZhmEiCgs0wzBMRKnsTsLaC3j7tWbUqGQ+lqfex+Vbn6oUwzDM+qU6jxtVAr38+UX8/Bt1LICHK3ew8PC+SjHMGkI+HIkixvBzNJhwVFWg05+8jsG79ah76hn1RiF+h+UHX2P5W5UMJOCB/RSZwvPwcw33oesBD+E3HwzvYj8gPgjvA+g9D4UnZKPN87B2632//N3PquPNy3qQvf2ZPQ+gtx5QT4Qoiw6Vq30h7AP7ifLUmed7yxNQwHgI/mk9Ooq3LITf78nOL/A3J8vNAs2Ep/rP4qjrwtHvqv8L8dyP8IOwWu5DZimDhgPBsa1bDzf6R8SQYjaKvsZp9GejQzuvkVlv0FJfkp2Ij2vXXpkEWvo8YZTcGHzyHBlqS382shCJA2mjDCOzVogkBQlZNi/x8hNnepqa8/4IZuo7jJBe3Z1xjGnX998EEue00FKhy0LC5jx1ze40ClKWOqPwr/r35nzW0av670CJL8VXlOf0YxIJ9BnnOJDYZssjXrbwUidk/058xZkY6hXvszgzxVPVScKV+7dw9zc+r5UXcOjQebx56BXUPBDpByvqitVB4pupbw94GHw3OltEA5zNqLQLNV4lZoZF5TB8NmQDE43RaKjjKYzNQuswRD5tVgw+cc3IbEwGt3WYQOqsWQYZX9AIItqKXdvUvwFQoNwGYSEOZkXbibsYa+nMCvDwWdMSlnH7hL3dlBXHMGWhvHqE1FEgVSF6S+pgWMpSZ6Jcl/RyOnEMjSCxoiNIGPEVxWcboriN+m/FifKdl+SAEzTW53fCMOUkGqs4nv0+DtZtRk3dEbzynDpWCotjooHH0HjYtjcFySYhWtOYWlBpF9V48weWLQMyCGsG078w8/GNOB2C+XtB5W1Fa6NP1OvbaWQQcjRQBBOXTlUu6neZ6sw3GolvxPAM0rfVvx5UZ1FENHFp/Y+aAW+dtDNic5/37BesmCx19315jX0vZk3zaAT6ic3YoP6V3PsCXy+u4LeLt/Cl5sIuBbLyoFmKDk7joqjWd9QRl8qFEqIo0MJid6M1740LOZjHnGWNT9ybB2rjwn7zR7pltAjVrqVHUcj9G7jzvkfAfQVJgzowYUNPBQ3XBd6ylJsy1FmbEwE7F8HcGXFkFuxv/g7SwuLfsVPVXdsu0X0Jy/xcrl7N6NxUr9RZ7DHE1XSlhIEext+EKddFotw6hvuJ5hjIUs+ek0a7MRfArHUegUDvQ9vLw0gdeQNxdQQrH+GDG11I3biIzx6qY6UyPoHpJX2oLiBLTAzDrwWIj914aRIo2wDFK38YfT8ctwm5GYLyDEVyQE5G5cSGGEav23ADGnjR0IShEIDMzWvBHZVvWcpJKXWmWaTnHN96oF84CPG5Tun1Kn3d2nefFXBNXH18+4WhyVjNvSTyHbyZQaxRjHwoLb6L9npxzpBWz1Q2UR5m/VBZgV56F5c/fB2DcyqNzdi3/zyO7d6IDbt/iN6XurIivWHLSRzcqBJlYQKpcdG4xA/dbTbdnQkgz9A0tt20xeSw3W2A6lhoSOxG1YRUCUN/OcRVk2N5xUY1Xt2/XAyyMzqXwPx1e6IxR+iyrJaS60zvtKbQRELtM7FaFEO96BfCqf+OiJnruu/e8XcXV/cFRgQ0aqjoKIV5HKiuBV33Ns40bVEJYNPek+jZfxSbtlzAW6924eRr76GtnCI9dE3Yy+5kFg2bg33Mq/UB+yKsTFfsPMu8AnzAMvLzUlpzvZAl6Q5xV7MCwBq6u0gL0PSxyhUJLfMYEcLmL7ylliUEZakzHSHWYlSRm8ykGH/eTjjQFRSEdBF5keLKMGWmigK9FS827zN9z4Kaph6kXm1GDZXk6Xoca7+AfU8675UOWdHzcqafVjTsyDN0l6sXahPoLNqNYUFCk8/KDPAB79muT+iRIBZvSZqCFSBIlmWW83MGrWteXVmKoix1VhjfTlh2WPl97pQPFudUPv4dX/7OIhyeeRBrpQwh82HWDdW1oINy049vbcaZg8+rRBkYmsJMfTt6GucLrNBwlqCRv7EUPy41MmM5mAdnONxwwpzV79Cte7lqQV8O5oMYcg/o5RRpmhTTBUsuh6vv0Hzn3Rg44UySOufQqMLyc9qEKUuJlKfOrPqgjiWZMDojtxPuyZ7nnAO94xb3tddfy41P7oSlqClyncVahGHhiqeq+2y9ijRF9M4/Z2GtJbfzodHfUgyJpHaOyodZPzzmUb2djRienYQQ1p4mKORf7ds+VvCYg7IY7bWwAbsOTQKulZg79GT+2cZm7cxLkkUZMFvvloNEwNgBSH5RHwvUOs84x+ceWdwddmHKYuDUQeO0z05AX8pUZ+q3YJTUt3zmeZ4di57Pa5Yhi3WeX72Su0Yek+ciV143fR3oCLqHxKob+k7G4+jT78WsSaqz1ZthGEeQ29K5jS22YBdDKdcyjw3V3+q9RpCrHdylXMbL3HbM5FjvdVZOv3Hl1uszUYQtaIapKF43XDgrmNwbnZg7nTvHcfHA3+XCrCnYgmaYSkJ+aDlKcJ7vYvqWw0CrcGi3YW7EweK8/mALmmEYJmKwBc0wDBNxWKAZhmEiCgs0wzBMRPkO/sl/KOiD3rP8Be7UNKsUwzAMU0n+q//1VPk3qjAMwzClce+/+d+yAs0uDoZhmIjCAs0wDBNRWKAZhmEiCgs0wzBMRGGBZhiGiSgs0AzDMBEl0gItg5TSg2LyBf6kJ4NV67GVMi8tqgfDMEwFiaxA06MVnVh5xysXC68MZDsR93WV5ZthmPJQukD/YTfe+xe9+J5v3CST2B9fwOA//zEaVTofZqDOPAz14nilIk0Xoi2FpoV+FeafXiOYqe8oKaYhwzCMS8kCHfv1PDK/147zV/KLdOyP+zDwZ9/DM//PPfxKHXvsGU+h14i75wQ3jTW2BrtkGIZhQlKyQGf+8yhSP/1LTMWCRdoR51Y8NTmAn1weQ0YdD2JgdFRGOIawRsltIC1S+QD0j5FKug9CV75gP79w9mHpfm4HilTh3NNwT/j4uU33BfueGYapLuXxQS8Kkf7JgK9IO+L8MvDLcOJM9B4/jpFZ8Q9FZRb/56Iux5BoAwalOyEgXJCMqNyI6Suu26Efk9uE0Fu+4VhLH5q+0lwTRjh+R5yzPnB6XUmjPSi6dRZhOTfGkJmeiKzPnGGYx4fyTRJmxjwiHTvUi34pzoPofS+cOBdiZjz/hGF3ZwK4Oaj5pCfE/zPCGm8yLWAh/rkwRJZrQoh8e30Gk0NaXiLfU9fFffLQfZVC5M9gzHB7MAzDrI7yCTShRPqvnyaRHkD/Pxbm7r9/r2ziLDJA+rb615dW7NrmWMc514R4+Vi+mYU76j8f9sYRW5rGROiJRwoM6lrcHA6fYZjyUF6BJoRIv/tnQqQ37sCKEOe+q78skziHZ+a667rQXxUSTunvdgKDRnk5IMMwjx/lF2iCRLr7FHqrLs4UCRloOFCG6bzaRrRam19ad+5Q/ymkvzuBedEh5PzkDMMw5aEyAv0IGf6K/M0dGEiqA4QQ0oFi1iYPXcPkUgyJpLayQ9yjp8VcotJ6uBExw5fNMAxTPtacQMuNK9dn0HBC80Gfi2OqKAt3AqnT/ZhEAn3uPYTgD1qThHIzjVoKaL+MDoJhGGYVcMgrhmGYCMEhrxiGYR4DWKAZhmEiCgs0wzBMRGGBZhiGiSgs0AzDMBHlO/gn/6HgKo49y1/gTk2zSjEMwzCVxF3FUdZldq2trZiY4B11DMMwpbBt2zZeZscwDBNlWKAZhmEiCgs0wzBMRGGBZhiGiSgs0AzDMBGFBZphGCaiVHaZXe0FvP1aM2pUMh/LU+/j8q1PVYphGGb94i6zq4pAL39+ET//Rh0L4OHKHSw8vK9SDLOGSA5g9MQOTF45pQUzZphgqirQ6U9ex+DdetQ99Yx6oxC/w/KDr7H8rUoGQsFaO4Drx7NRTbqvjqKj3olLGBjpRIWqomgox896IxW2vvMx+qzoKeKOGAkV17AVqZ9RdG+VFGRu9ntDYslGmwtm6ymv9b5f/u5n1fHm5dRR9k72Z3brQiXFHbxCEqIsOlSu9gWfzxxI9eqsYH34lIUolFfe35s8lwWaCU/1N6rUdeHod9X/hXjuR/hBWC33IbOUyRuXUIaqUv+bONG5+xqn0W8FnR2Z3YFdVoxCX5KdiI9r116ZBFr6zAgr2QarzpERYD5GKnt/IRIH0kYZRmYb0PEzLQSXgoQsm5d4+YmzDGgr3x/BTH0HPtbCf3V3xjGmXd9/E0icGxBXuoQtCwmbE03G7jQKUrU6K1wfLiS47n3o5RXnfGWxoCg/x1mcmeKp6iThyv1buPsbn9fKCzh06DzePPQKah6I9IMVdcXqIPHN1LcHNJhudLaIBjhrh7MlgQmOzj18NmQDE43RaMzjKYzN6oFsRT5tDUJYB3P3E9eMzMaQ6HTPmUDqrFmG4WuTyBiBbFuxa5v6N4DWd9rRsDSJwaxoD6NXiEmspTMrwMNnTQtz4tKYsDsb0JQVxzBlobx6kMCkEMh+TC6pg2GpVp0lm8Qnm8GYVh/XbmYQa2zVRHwP4pb1bBKmLAxTHqKxiuPZ7+Ng3WbU1B3BK8+pY6WwOCYaeAyNh72WkWykS9OYWlBpF2HFJWr1xlsh2lrRWJvB9C/MfO4siA5j2y5NKMIxfy+ovEJ0GmPITE8YooXbaWQQcjRQBBOXTvl2bGWhzHVWmAzSt9W/NqspS1JY3KPaqCSbdkZsbhxLP0ue3EXu+/Ia+17MmubRCPQTm7FB/Su59wW+XlzBbxdv4cvCru5QkPUEzVJ0cKyfGWGh3VFHXLoPNACzU4F+1dXTjSbyiX+l7rw3Liz8ecxZ1vjEvXmgNi7sN3+kW0Z0LBPZ6xxLTw+OazZw532PgI/PidxjiO9VaRtlZU4F+VMF3rKUmwrVmYzW3oCOq+6vgkZTVifWtkt0X8IaPperV8PVssqyeBHlGG3ClOtGUW4dw/1EcwzbaFTinpNGu+FjZ9Y6j0Cg96Ht5WGkjryBuDqClY/wwY0upG5cxGcP1bFSGZ/AtGiMuaG6gKwfMQy/FiA+mQVTtmmy0G2knoYaCsdtQm6GoDxDkRyQk5bUseTkdhi9bsMNaOBFQxOGQgAyN68Fd1S+ZSknlawzFa19mxuJ3XFpGX57cf4pvV6lf7kSUdppMlZzL4l8B3V3i/gu2uvFOUNa+alsojzM+qGyAr30Li5/+DoG51Qam7Fv/3kc270RG3b/EL0vdWVFesOWkzi4USXKgmiM46JxiR+6K1ndnQnAHvJrxLab9o8ctsuGOiJsyiIhsRvtQ2JxpKShvxziqgmpwFUChGq8un+5GGRndC6B+ev2RGOO0GVZLZWuM3n/HmFJ5wR4bHsfRn0mX7MM9aJfCKf+OyoPBaxwstQrOkphHgeqa0HXvY0zTVtUAti09yR69h/Fpi0X8NarXTj52ntoK6dI05BW2MzOJBENm4N9zGX1ZwrrzRU7zzK+AB9w684dokNLa64XsiTdIe5qVgDcQXoJ2LHT+kRyCG/6WEnQ+lrmMSIEy194Sy1LCKpQZ7KD1if3BMNnRedbm0BnWAs5dFkYpnSqKNBb8WLzPtP3LKhp6kHq1WbUUEmersex9gvY96TzXumQFT0vZ9dpRcOOPEN3uXqhmIYaBAlNPiszwAe8Z7vuCyWhKd6SNEViAnOL3lGBbZnl/JxB65pXV5aiqEqdFV71EgTlg8U5556hyrI6PPMg1koZQn7HzLqhuhZ0UG768a3NOHPweZUoA0NTmKlvR0/jfIEVGs4SNPI3luLHpUZmLMHy4Cztajhhzup36Na9XCkwgxGfTTRZxJB7QC+nSPdYE15ymVl9h+Y/7cbACWeS1DmHRhWWn9MmTFlKpDp15ri8Yi3CINBEr/sqbVrRJkXFfe3113LjkzthGaos5Eop5Le21mjb+cgJzRgSSe0c9R0z64fHPOSVs/HAs5MQworSGqrcGbh9rOAxB2WJ2WthA3YdmgRcKzF36Mn8s43N2vGWJIsyYLbeLQeJgLEDUNxFq4cs1nnGOT73yLIkrGqyRMOUxcCpg8Zpn52AvlSxzgjPeYXuY5bBJW9ZVL2Su0bWtbwncue46etAh5aX9/uz6oa+k/E4+vR7MWuS6mz1ZhjGEeS2tNPhuenVimwp1zKPDRyTcJWQ5aQvvcu98mz1Xees9zorp9+4cuv1mSjCFjTDVBSvGy6cFUzujU7Mnc6d47hV4OtyYdYWbEEzTCUhP7QcJTibYTxzAwWhVTi02zA34mBxXn+wBc0wDBMx2IJmGIaJOCzQDMMwEYUFmmEYJqKwQDMMw0QUFmiGYZiIwgLNMAwTUVigGYZhIgoLNMMwTERhgWYYhokoLNAMwzARpbJbvWsv4O3XmlGjkvlYnnofl299qlIMwzDrl+o8D1oJ9PLnF/Hzb9SxAB6u3MHCw/sqxTBriCQ9vY5CevGDjphwVFWg05+8jsG79ah76hn1RiF+h+UHX2P5W5UMJCCiCoUO8kSn0HAjiQRESTGjZbhYUTMC8UYIydih/QnZaPNE07De98vf/aw63rycOsreyf7MnqgqPhFEQpRFh8rVvhA2ogpRvTorWB8BEV78fk/27yTwNyfLxQLNhKf6D0uq68LR76r/C/Hcj/CDsFruQ2Ypg4YD2YhxHloPN/qHeZKNdxR9jdPoV2H53dfIrDeSsy/JTsTHtWuvTAItfZ44d26QVHmOjIWoP7xeiMSBtFGGkVkrhp2ChCybl3j5iTM97tJ5fwQz9R1GzMXuzjjGtOv7bwKJc1q8vdBlIWFzHotpdxoFqVqdFa4PFxJb9z70soWXOiH7d+IrzsRQr3ifxZkpnqpOEq7cv4W7v/F5rbyAQ4fO481Dr6DmgUg/WFFXrA4S30x9e0C0jm50togGOJtRaRcSGNV4T3uDqA6fDdnARGM0Gup4CmOz0DoMkU+bFSRVXDMyG5PRxx0mkDprlkEGgDWiPBeOUk2RzBuWJjGYFW0nMG6spTMrwMNnTQtTRjcX9mVTVhzDlIXy6kECFB28H5NL6mBYqlVnySYZIDYXPNgJABtrbNVEfA/ivvERNZIDTiR0n98Jw5STaKziePb7OFi3GTV1R/DKc+pYKSyOiQYeQ+Nhr2UkG+nSNKYWVNpFWHGJWr3xVggZfTqD6V+Y+dxZEB3Gtl2aUIRj/l5QeYXoNJpRviW308gg5GigCCYunfLt2MpCmeusMBmkb6t/PajOwq7XfAhBHx01o4A7aWfE5j6Q38+SJ0vdfV9eY9+LWdM8GoF+YjM2qH8l977A14sr+O3iLXxZ2NUdCrKeoFmKDk7jmhEW2h11xKVysd660aSH098bFxb+POYsa3zi3jxQGxf2mz/SLSM6lonsdY6l13AiqIE773sEfHxO5B5DfK9K2ygrcypouC7wlqXcVKjOhq4J674BHVfdXwWNpqxOrG2X6L6EZX4uV6+Gq0XWK3UWewxxHc3eMywULaUJU66LRLl1DPcTzTGQpZ49J412w8fOrHUegUDvQ9vLw0gdeQNxdQQrH+GDG11I3biIzx6qY6UyPoFp0RhzQ3UBWWJiGH4tQHwyC6Zs0yRQtgGKl9lQw+C4TcjNEJRnKJIDcjKKOpac3A6j1224AQ28aGjCUAhA5ua14I7KtyzlpJJ1NoHU6X5MbutQ36nj0jL89uL8U3q9Sl+39t1nBVwT1zy+7GBoMlZzL4l8B3V3i/gu2uvFOUNa+alsojzM+qGyAr30Li5/+DoG51Qam7Fv/3kc270RG3b/EL0vdWVFesOWkzi4USXKgmiM46JxiR+622y6OxNAnqFpbLtpi8lhu9sA1bHQkNiN9iGxOFLS0F8OcdXkWOAkFKEar+5fLgbZGZ1LYP66PdGYI3RZVkul60zev0dY0q6wHsfY9j6M+ky+ZhnqRb8QTv13RMxc1333ypddVN0XGBHQqKGioxTmcaC6FnTd2zjTtEUlgE17T6Jn/1Fs2nIBb73ahZOvvYe2coo0DWmFzexMEtGwOdjHXFZ/prDeXLHzLOML8AHL0PxLac31QpakO8RdzQqAO0gvATt2Wp9IWoCmj5UEra9lHiNCsPyFt9SyhKAKdSY7aH2iUTB8VnS+tQl0hh0dSReRFymuDFNmqijQW/Fi8z7T9yyoaepB6tVm1FBJnq7HsfYL2Pek817pkBU9L2f6aUXDjjxDd7l6oZiGGgQJTT4rM8AHvGe77gsloSnekjQFi6JCe0cFtmWW83MGrWteXVmKoip1VnjVSxCUDxbn1D39Oz5vZ1E8nnkQa6UMIfNh1g3VtaCDctOPb23GmYPPq0QZGJrCTH07ehrnC6zQcJagkb+xFD8uNTJjOZgHZzjccMKc1e/QrXu5amEGIz6baLKIIfeAXk6R7rEmvOQys/oOzXfejYETziSpcw6NKiw/p02YspRIderMcXnFWoRBoIle91XatKJNior72uuv5cYnd8LS7z6q7rP1Kl0pheYsrDXadj5yQjOGRFI7R+XDrB8qu5Ow4jgbDzw7CSGsKK2hyh1f28cKHnNQlpi9FjZg16FJwLUSc4eezD/b2Kwdb0myKANm691ykAgYOwDJL+pjgVrnGef43CPLkrCqyRINUxYDpw4ap63Jt0CqWGeE57xC9zHLkMU6z69eyV0jj8lzkcvHTV8HOoLuIbHqhr6T8Tj69Hsxa5LqbPVmGMYR5LZ0bmOLLdjFUMq1zGND9bd6rxHkagdt6V3upW87ZnTWe52V029cufX6TBRhC5phKorXDRfOCib3RifmTufOcVw88He5MGsKtqAZppKQH1qOEpzNMKZvOQy0Cod2G+ZGHCzO6w+2oBmGYSIGW9AMwzARhwWaYRgmorBAMwzDRBQWaIZhmIjCAs0wDBNRWKAZhmEiCgs0wzBMRGGBZhiGiSgs0AzDMBGlsjsJay/g7deaUaOS+Vieeh+Xb32qUgzDMOuX6jxuVAn08ucX8fNv1LEAHq7cwcLD+yrFMGuIJD0ciSLG8HM0mHBUVaDTn7yOwbv1qHvqGfVGIX6H5QdfY/lblQwk4IH9FJnC8/BzDfdB9QEP4TcfDO9iPdg9EO8D6DN25GhCNto8D2u33vfL3/2sOt68nDrK3sn+zJ6H9vs8oD5EWXSoXO0LYR/YT1Svzjyf1/c3UKDO7Hzc4AYq6UGezwLNhKf6z+Ko68LR76r/C/Hcj/CDsFruQ2Ypg4YDwfGVWw83+kcRkQ1zFH2N0+hXUZ/d18isN2ipL8lOxMe1a69MAi19njBKbgw+eY4MtaU/G1kI1oG0UYaRWStEkoKELJuXePmJMz1NzXl/BDP1HUZIr+7OOMa06/tvAolzWmip0GUhkXWeumZ3GgWpVp1pkU6cc7z1EabOWnemhfC79+jHJBLoKxAZ/Hilgu0ya5qqThKu3L+Fu7/xea28gEOHzuPNQ6+g5oFIP1hRV6wOEt9MfXvAw+C70dkibKvZjEq7kMCohuljDQ2fDdnARGM0rLrxFMZmoXUYIp82KwafuGZkNiaD2zpMIHXWLIOML2gEES0cBJUC5TYI624wK9pO3MVYS2dWgIfPmhamDJ4rbMemrDiGKQvl1SNkioLPCsFaUgfDUqU6o6jeNGrK5eWtjzB1NnEppdWZE6MQtXFY4XkZpmSisYrj2e/jYN1m1NQdwSvPqWOlsDgmGngMjYd9bJpkk2iA05haUGkXYcUlarUgpJVCBjfNYPoXZj53FkSHsW1XsBUWwPy9oPK2orXRDCIruZ1GBiFHA0UwcelU5aJ+l7HOMgtW3G0KKpytjwrVWVJY/6NmwFsn7YzY3Oc9+wUrJneR+768xr4Xs6Z5NAL9xGZsUP9K7n2BrxdX8NvFW/iysKs7FGQ9QbN6HBxLjKIv2+HxKxdKiCJnC4vdjda8Ny4s/HnMWdb4xL35vFaYdMuIjmUie90exGuFlXkiqIE773sEfHxO5B5DfK9K21AHJiQrG+XaB29Zyk2l6kyMrrZbZ7ftEtLr1sdq6kyI7Amy7q8V+duhh/E3Ycp1lSi3juF+ojmGbTQqcc9Jo93wsTNrnUcg0PvQ9vIwUkfeQFwdwcpH+OBGF1I3LuKzh+pYqYxPYHpJH6oLyBITw/BrAeJjW1d2LL38YfT9cNwmNGQOyjMUyQE5aZkN6y8RQ2+34QY08KIhH20hsfEtSzmpXJ0NfzUD1Hdo36PIKxkQ1TwvVEb3d9GO9BXb9x8GmozV3EuinIM3M4g1Ciue0uK7aK8X5wxp9SzOOXVdfAZm3VBZgV56F5c/fB2DcyqNzdi3/zyO7d6IDbt/iN6XurIivWHLSRzcqBJlwfENNogfuitZ5IOEPXzVsK0rOWyXAjgibMoiIbEb7UNicaSkob8c4qrJMcNPa6Mar+4rLQbZGakJtCCxCV2W1VLpOqPJOlFHuVFHjzhG320G6dvqnFCI39Zpt3McFJ0B3atYt0OBEQGNGio6SmEeB6prQde9jTNNW1QC2LT3JHr2H8WmLRfw1qtdOPnae2grp0gPXRP2sjtJRMPmYB/zan3AvgjrzRU7zxKuAH+mjPy8lNZcL46V5gxxV7MC4A7SS8COndYnkkN6U5BI0Ppa5uXKBH/hLbUsIahWnZFIu6MOOgdUH65Yhq+zHCTWJPLWaI1hykAVBXorXmzeZ/qeBTVNPUi92owaKsnT9TjWfgH7nnTeKx2youflTD/Nzu/IM3SXqxdqE+gstZGR0OSzMgP8mXu265NTJDTFW5KmYFHQUR+fq2WZ5fycQeuaV1eWoniEdeas7HDnHsLVWaXwzINYK2UI+R0z64bqWtBBuenHtzbjzMHnVaIM0Cx9fTt6GucLrNBwllPR8LcUPy41MmM5mIdhXLuZEfmYs/odunUvVy3MYMSzgUKjLYUBvZwi3dNirkCQy8wMn6szoZXzy9KowvJz2oQpS4lUs85SWgdMbh26h35NmDobuGo6M7qv0qYWbWJVumoKzVlYa7Tl59EmRmn0txRDImmu46bvmFk/POZRvWmZks9OQggrSmt0cmfg9rGCxxyUJabtapME7Do0CbhWYu7Qk/lnG5u14y1JFmXAbL1bDhIBfUecwHf3pHWecY7PPbK4u+PClMXAqYPG6bA7CR9hnbmfUSWz5Kszv/La91HXk7tGXifLhlx53fR1oEMrs/f7s/KifMbj6NPvxaxJqrPVm2EYR5Db0jkRtwW7GEq5lnlsqP5W7zUCWXH60rvcS992zOis9zorp9+4cuv1mSjCFjTDVBSvGy6cFUzujU7Mnc6d47h4YLh9mLUJW9AMU0nIDy1HCc7zXUzfchhoRQntNsyNOFic1x9sQTMMw0QMtqAZhmEiDgs0wzBMRGGBZhiGiSgs0AzDMBGFBZphGCaisEAzDMNEFBZohmGYiMICzTAME1FYoBmGYSIKCzTDMExEqexW79oLePu1ZtSoZD6Wp97H5VufqhTDMMz6pTrPg1YCvfz5Rfz8G3UsgIcrd7Dw8L5KMcwaIklPr6OQXvygIyYcVRXo9CevY/BuPeqeeka9UYjfYfnB11j+ViUDCYioQqGDPNEpNNyIGQFRUszIHS5WBI9AvBE3Mjd9oovIRpsnmob1vl/+7mfV8ebl1FH2TvZntqOMWFFMJCHKokPlal8IG1GFqF6deT6v72+gQJ0JzN+IT53pyHKxQDPhqf7Dkuq6cPS76v9CPPcj/CCslvuQWcqg4UBwEPzWw43+YZ5kwxxFX+M0+rORn53XyKw3qrQvyU7Ex7Vrr0wCLX1mfLpsg1XnyFiI+sPrhWAdSBtlGJm1YtgpSMiyeYmXnzjT4y6d90cwU99hxFzs7oxjTLu+/yaQOKfF/gtdFhJZ57GYdqdRkGrVmRaKyjnHWx9h6swRZycKOp3jrTMLGUmcxZkpnqpOEq7cv4W7v/F5rbyAQ4fO481Dr6DmgUg/WFFXrA4S30x9e0C0jm50tgjbajaj0i4kMKphnvbGqRs+G7KBicZoWHXjKYzNQuswRD5tVpBUcc3IbExGH3eYQOqsWQYZzNSI8tyKXdvUvwFQJPOGpUkMZkXbCYwba+nMisnwWdPClNHNhe3YlBXHMGWhvHqQAEUH78fkkjoYlirVmRPBe0TLy1sfheusFa2NMVGWXIR4b50xTHmIxiqOZ7+Pg3WbUVN3BK88p46VwuKYaOAxNB42bTxJskk0wGlMLai0i7DiErValOhKIaNPZzD9CzOfOwuiw9i2SzT/4pi/F1ReJSRalG/J7bQYkIccDRTBxKVTvh1bWShjnWUW7qj/FBT1PVsfFaqzpLD+R82I5E7aGbG5D+T3iyZP7iL3fXmNfS9mTfNoBPqJzdig/pXc+wJfL67gt4u38GVhV3coyHqCZhk5OJYYhdC3mmkFY711o0kPp783Liz8ecxZ1vjEvXmgNo49Km0j3TKiY5nIXrcH8VphZZ4IauDO+x4BH58TuccQ36vSNtSBCcma0i1aC29Zyk2l6kyMrrZbZ7ftEtLr1keYOhOW+jhZ1D3ZEZq0ugvUmReKltKEKeUmcd06hvuJ5hi20ajEPSeNdsPHzqx1HoFA70Pby8NIHXkDcXUEKx/hgxtdSN24iM8eqmOlMj6B6SVr2EmWmBiGXwtoSLZ1Rb7GnPUyavpEQ+G4TWjIHJRnKJIDckKKOpacdIiht9twAxp40ZCPVgiAPnz34FuWclK5Ohv+agao79C+R5FXUp8gDQn5lK/PI3HO+V04/ugwE8g6NLGoXSPKOXgzg1ijsOIpLb6L9npxzpBWz+KcU9fFZ2DWDZUV6KV3cfnD1zE4p9LYjH37z+PY7o3YsPuH6H2pKyvSG7acxMGNKlEWHEunQfzQXckiHyTs4auGbV3JYbsUwBFhHxUJid1oHxKLIyUN/eUQV02OGX5aG9V4dX9qMcjOSE2gBa2+CF2W1VLpOpPCSpOLjrCOjvaIY/TdZpC+rc4Jgbz/gSmtcxSWbdEdeIERAY0aKjpKYR4HqmtB172NM01bVALYtPckevYfxaYtF/DWq104+dp7aCunSA9dE/ayO0lEw+ZgH/NqfcC+COvNFTvPEq4Af6YMzb+U1lwvZEm6Q9zVrAC4g/QSsGOn9YnkkN4UJBIcd1WCv/CWWpYQVKvOSKRdYaVzQPXhimWIOpOW7QxG9DIq61c3BhimHFRRoLfixeZ9pu9ZUNPUg9Srzaihkjxdj2PtF7DvSee90iErWgxFO7uln3BHnqG7nImvTaCz1Jl4Epp8VmaAD3jPdn1yioSmeEvSFCyKCu3jc7UsMxJnR9CChuirK0tRPMI6c1Z2uHMPIepM+sMrg2cexFopQ8jvmFk3VNeCDspNP761GWcOPq8SZYBm6evb0dM4X2CFhrOcioa/pfhxqZEZy8E8DOMaWVsnzFn9Dt26l6sWLCvNRlhrA3o5RbqnxVyBIJeZGT7XbgyccCZJnXNoVGH5OW3ClKVEqllnKa0DJrcO3UO/pmCd0ahsqQEdVzVHkl33Iv1xQZeHtUZbfh5tYlTmE0Miaa7jpnyY9UNldxJWHGdTgWcnIYQVpTU6ubFg+1jBYw7KEtN2tUkCdh2aBFwrMXebyfyzjU2IhG7BJsmiDJitd8tBIqDviBP47p60zjPO8blHliVhVZMlGqYsBk4dNE6H3Un4COvM/YwqmSVfnUm8ZTZ2PqrryV0jr5NlQ668bvo60KGVuWA+VN7xOPr0ezFrkups9WYYxhHktnSuM7AFuxhKuZZ5bKj+Vu81Allx+tK73EvfdszorPc6K6ffuHLr9ZkowhY0w1QUrxsunBVM7o1OzJ3OneO4eGC4fZi1CVvQDFNJyA8tRwnO811M33IYaEUJ7TbMjThYnNcfbEEzDMNEDLagGYZhIg4LNMMwTERhgWYYhokoLNAMwzARhQWaYRgmorBAMwzDRBQWaIZhmIjCAs0wDBNRWKAZhmEiSmV3EtZewNuvNaNGJfOxPPU+Lt/6VKUYhmHWL9V53KgS6OXPL+Ln36hjATxcuYOFh/dVimHWEEl6OBJFjOHnaDDhqKpApz95HYN361H31DPqjUL8DssPvsbytyoZSMAD+ykyhefh5xruA9kDHsJvPhjexXpAfCAFHubuIhttnoe1W+/75e9+Vh1vXk4dZe9kf2b7IfbWQ/IlIcqiQ+VqXwj7wH6ienXm+bwBvwGJPDeOMfsedj5BD/53keezQDPhqf6zOOq6cPS76v9CPPcj/CCslvuQWcqg4UBwbOvWw43+UUSkmI2ir3Ea/dnAos5rZNYbtNSXZCfi49q1VyaBlj4z/FG2wapzZKgt/dnIQrAOpI0yjMxaIZIUJGTZvMTLT5zpaWrO+yOYqe8wQnp1d5IA5a7vvwkkzmmhpUKXhUTWeeqa3WkUpFp1psRZBqaV53jrQ0J50RPkjI4rR+vOtBB+9x79mEQCfT7fTRYZqJbFmSmeqk4Srty/hbu/8XmtvIBDh87jzUOvoOaBSD9YUVesDmpUmfr2gIfBd6OzRdhWsxmVdiGBUWLmYw0Nnw3ZwERjNKy68RTGZqF1GCKfNisGn7hmZDYmg9s6TCB11iyDjJVnBBFtxa5t6t8AKFBug7DuBrOi7cRdjLV0ZgV4+KxpHcrgucLebsqKY5iyUF49QqYo+KwQrCV1MCxVqjMnQOyIlpe3PmSnJqxjss6pE/Bj4lJKqzMKTCzOq43DCjXLMCUTjVUcz34fB+s2o6buCF55Th0rhcUx0cBjaDzsY9Mkm4RoTWNqQaVdhBWXqNWCkFYKGdw0g+lfmPncWRAdxrZdwVZYAPP3gsrbitZGM4is5HYaGYQcDRTBxKVTlYv6XcY6yyw4Mc+zUFBhoz6EaAvL2OgwSiVJFrkZ8NZJOyM293nPfsGKyV3kvi+vse/FrGkejUA/sRkb1L+Se1/g68UV/HbxFr4s7OoOBVlPMCwjwrHEKEKz1UwrGEqIImcLi92N1izD9s9jzrLGJ+7N57XCpFvGDf0v2YN4rbAyTwQ1cOd9j4CPz4ncY4jvVWkb6sCEZE3lEShvWcpNpepMjK62W2e37RLynKc+CuJY3Jmb14r87dDD+Jsw5bpKlFvHcD/RHMM2GpW456TRbvjYmbXOIxDofWh7eRipI28gro5g5SN8cKMLqRsX8dlDdaxUxicwvaQP1QVkiYlh+LUA8bGtKzuWXv4w+n44bhNyMwTlGYrkgJy0zIb+lziWnuMH9W/gRUM+2kJi41uWclK5Ohv+agao79C+R5FX0t/PnB8qo/u7aEf6iu37DwNNxmruJVHOwZsZxBrFyIfS4rtorxfnDGn1LM45FeB2YdYmlRXopXdx+cPXMTin0tiMffvP49jujdiw+4fofakrK9IbtpzEwY0qURYc32CD+KG7kkU+SNhDfg3bupLDdimAI8KmLBISu9E+JBZHShr6yyGumhzLO+xWjdf0p4ZHdkZqAi1IbEKXZbVUus5osk7UUW7U0SOO0XebQfq2OicU4rd12u0cB0VnQPcq1u1QYERAo4aKjlKYx4HqWtB1b+NM0xaVADbtPYme/UexacsFvPVqF06+9h7ayinSQ9eEvexOEtGwOdjHvFofsC/CenPFzrOEK8AHLCM/L6U114tjpTlD3NWsALiD9BKwY6f1ieSQ3hQkErS+lnm5MsFfeEstSwiqVWck0u6og84B1YdXLMNDYk0ib43WGKYMVFGgt+LF5n2m71lQ09SD1KvNqKGSPF2PY+0XsO9J573SISt6Xs7004qGHXmG7nL1Qm0CnaU2MhKafFZmgA94z3Z9Qo+EpnhL0hQsCjrq43O1LLOcnzNoXfPqylIUj7DOnJUdlZh7KB7PPIi1UoaQ3zGzbqiuBR2Um358azPOHHxeJcoAzdLXt6Oncb7ACg1nyRUNf0vx41IjM5aDeRjGtZsZkY85q9+hW/dy1cIMRoI2UBBtKQzo5RTpnhZz1YZcZmb4XNUSsqxflkYVlp/TJkxZSqSadZbSOmBy69A9ivtsog6vms6M7qu0EUibWJWumkJzFtYabfl5tIlRGv0txZBImuu46Ttm1g+PeVRvWqbks5MQworSGp3cGbh9rOAxB2WJabvaJPl2nGUJuFZi7tCT+Wcbm7XjLUkWZcBsvVsOEgFrI4Xv7knrPOMcn3tkcXfHhSmLgVMHjdNhdxI+wjoLtQMQ1m5En/La91H5kLtG1rV9Hzd9HejQyuz9/qy8KJ/xOPo8ZWLWGtXZ6s0wjCPIbemciNuCXQylXMs8NlR/q/cagaw4feld7qVvO2Z01nudldNvXLn1+kwUYQuaYSqK1w0Xzgom90Yn5k7nznFcPDDcPszahC1ohqkk5IeWowTn+S6euYGC0Coc2m2YG3GwOK8/2IJmGIaJGGxBMwzDRBwWaIZhmIjCAs0wDBNRQvmgGYZhmOrh+KB/jf8fDULlcTp44mgAAAAASUVORK5CYII=)"
      ],
      "metadata": {
        "id": "WmdxM7Iv8-1B"
      }
    },
    {
      "cell_type": "markdown",
      "metadata": {
        "id": "1SiR2yJQ1W7B"
      },
      "source": [
        "---"
      ]
    },
    {
      "cell_type": "markdown",
      "metadata": {
        "id": "TPA3SGHN1YdC"
      },
      "source": [
        "### Loading the data and recognizing faces"
      ]
    },
    {
      "cell_type": "markdown",
      "metadata": {
        "id": "Q07mfdMq1b2J"
      },
      "source": [
        "Next up, we need to load these two resources (the array of images and CSV file) into the face recognition algorithm, so it can be trained to recognize our face. To do this, we build a function that reads the CSV file and—for each line of the file—loads the image at the corresponding path into the images array and the ID into the labels array."
      ]
    },
    {
      "cell_type": "code",
      "execution_count": null,
      "metadata": {
        "id": "c4TmUw_BEeUc",
        "outputId": "164dc0fc-247a-4e63-f401-418087b2ce17"
      },
      "outputs": [
        {
          "name": "stdout",
          "output_type": "stream",
          "text": [
            "[[array([[31, 30, 28, ..., 52, 54, 53],\n",
            "       [30, 29, 28, ..., 52, 55, 56],\n",
            "       [29, 28, 27, ..., 51, 55, 55],\n",
            "       ...,\n",
            "       [29, 28, 28, ..., 38, 39, 38],\n",
            "       [29, 29, 28, ..., 38, 39, 38],\n",
            "       [27, 27, 28, ..., 38, 38, 37]], shape=(3264, 2448), dtype=uint8), array([[192, 190, 193, ...,  26,  27,  26],\n",
            "       [192, 191, 193, ...,  28,  28,  23],\n",
            "       [190, 189, 190, ...,  25,  25,  23],\n",
            "       ...,\n",
            "       [ 50,  47,  43, ...,  26,  25,  25],\n",
            "       [ 46,  45,  43, ...,  25,  26,  28],\n",
            "       [ 42,  42,  41, ...,  24,  26,  30]],\n",
            "      shape=(3264, 2448), dtype=uint8), array([[ 35,  37,  35, ..., 161, 166, 177],\n",
            "       [ 35,  36,  32, ..., 163, 165, 171],\n",
            "       [ 34,  33,  32, ..., 164, 162, 162],\n",
            "       ...,\n",
            "       [139, 144, 148, ...,  35,  34,  32],\n",
            "       [142, 145, 147, ...,  37,  39,  34],\n",
            "       [142, 144, 146, ...,  37,  40,  33]],\n",
            "      shape=(3264, 2448), dtype=uint8), array([[116, 114, 115, ...,  24,  26,  28],\n",
            "       [113, 117, 121, ...,  24,  25,  26],\n",
            "       [119, 124, 128, ...,  24,  25,  25],\n",
            "       ...,\n",
            "       [ 35,  35,  34, ...,  26,  26,  27],\n",
            "       [ 34,  33,  33, ...,  26,  26,  26],\n",
            "       [ 36,  34,  33, ...,  26,  25,  25]],\n",
            "      shape=(3264, 2448), dtype=uint8), array([[29, 27, 25, ..., 36, 40, 39],\n",
            "       [26, 25, 24, ..., 37, 39, 40],\n",
            "       [27, 26, 26, ..., 38, 39, 40],\n",
            "       ...,\n",
            "       [38, 37, 37, ..., 40, 41, 40],\n",
            "       [38, 38, 38, ..., 40, 40, 41],\n",
            "       [37, 37, 38, ..., 39, 40, 42]], shape=(3264, 2448), dtype=uint8), array([[94, 87, 88, ..., 50, 50, 48],\n",
            "       [86, 76, 78, ..., 51, 48, 42],\n",
            "       [80, 70, 71, ..., 45, 46, 46],\n",
            "       ...,\n",
            "       [61, 58, 55, ..., 50, 49, 48],\n",
            "       [63, 59, 56, ..., 51, 49, 49],\n",
            "       [63, 59, 56, ..., 50, 48, 48]], shape=(3264, 2448), dtype=uint8), array([[218, 218, 217, ..., 131, 131, 130],\n",
            "       [217, 217, 217, ..., 135, 131, 130],\n",
            "       [217, 217, 217, ..., 135, 130, 133],\n",
            "       ...,\n",
            "       [ 19,  18,  18, ...,  17,  17,  16],\n",
            "       [ 17,  18,  20, ...,  18,  18,  19],\n",
            "       [ 18,  16,  15, ...,  16,  15,  16]],\n",
            "      shape=(3264, 2448), dtype=uint8), array([[ 71,  69,  68, ..., 109, 110, 120],\n",
            "       [ 70,  70,  70, ..., 114, 116, 126],\n",
            "       [ 70,  72,  72, ..., 120, 120, 123],\n",
            "       ...,\n",
            "       [ 27,  26,  27, ...,   8,   7,   7],\n",
            "       [ 27,  26,  28, ...,   8,   7,   8],\n",
            "       [ 31,  29,  29, ...,   8,   8,   9]],\n",
            "      shape=(3264, 2448), dtype=uint8), array([[10, 10, 10, ..., 63, 61, 61],\n",
            "       [10, 10, 10, ..., 62, 61, 61],\n",
            "       [ 9,  9, 10, ..., 63, 62, 62],\n",
            "       ...,\n",
            "       [22, 22, 22, ..., 17, 17, 17],\n",
            "       [22, 22, 22, ..., 17, 17, 18],\n",
            "       [22, 22, 22, ..., 18, 18, 18]], shape=(3264, 2448), dtype=uint8), array([[37, 38, 39, ..., 38, 40, 39],\n",
            "       [37, 38, 38, ..., 38, 40, 39],\n",
            "       [36, 37, 37, ..., 38, 40, 40],\n",
            "       ...,\n",
            "       [78, 78, 78, ..., 55, 55, 54],\n",
            "       [82, 79, 80, ..., 56, 56, 55],\n",
            "       [85, 83, 81, ..., 56, 55, 54]], shape=(3264, 2448), dtype=uint8)], [0, 0, 0, 0, 0, 1, 1, 1, 1, 1]]\n"
          ]
        }
      ],
      "source": [
        "import numpy as np\n",
        "import os\n",
        "import errno\n",
        "import sys\n",
        "import cv2\n",
        "\n",
        "def read_images(path, sz=None):\n",
        "  c = 0\n",
        "  X, y = [], []\n",
        "\n",
        "  for dirname, dirnames, filenames in os.walk(path):\n",
        "    for subdirname in dirnames:\n",
        "      subject_path = os.path.join(dirname, subdirname)\n",
        "      for filename in os.listdir(subject_path):\n",
        "        try:\n",
        "          if(filename == \".directory\"):\n",
        "            continue\n",
        "          filepath = os.path.join(subject_path, filename)\n",
        "          im = cv2.imread(os.path.join(subject_path, filename), cv2.IMREAD_GRAYSCALE)\n",
        "\n",
        "          # Resize the images to the prescribed size\n",
        "          if (sz is not None):\n",
        "            im = cv2.resize(im, (200,200))\n",
        "\n",
        "          X.append(np.asarray(im, dtype=np.uint8))\n",
        "          y.append(c)\n",
        "\n",
        "        except IOError as e:\n",
        "          print(f\"I/O Error({e.errno}): {e.strerror}\")\n",
        "        except:\n",
        "          print(\"Unexpected error:\", sys.exc_info()[0])\n",
        "          raise\n",
        "      c = c+1\n",
        "  return [X, y]\n",
        "\n",
        "test_data = read_images(\"dataset\")\n",
        "print(test_data)"
      ]
    },
    {
      "cell_type": "markdown",
      "metadata": {
        "id": "aWNBxCbO2oO-"
      },
      "source": [
        "**Question: Run the function above on your generated dataset. Provide an analysis and note all the challenges you have encountered running this code.**"
      ]
    },
    {
      "cell_type": "markdown",
      "metadata": {
        "id": "SJ5IMZcC3wZt"
      },
      "source": [
        "---"
      ]
    },
    {
      "cell_type": "markdown",
      "metadata": {
        "id": "DlLWfyvY3xm0"
      },
      "source": [
        "### Performing Face Recognition Algorithms"
      ]
    },
    {
      "cell_type": "markdown",
      "metadata": {
        "id": "FVF9dfTQ30pc"
      },
      "source": [
        "Here is a sample script for testing the Face Recognition Algorithm. In this section, we're going to follow the same process but with different algorithms for face recognitions, namely:\n",
        "- Eigenface Recognition\n",
        "- Fisherface Recognition\n",
        "- Local Binary Pattern Histograms (LBPH) Recognition"
      ]
    },
    {
      "cell_type": "code",
      "execution_count": null,
      "metadata": {
        "id": "cYQ19foI4Oe7"
      },
      "outputs": [],
      "source": [
        "def face_rec():\n",
        "  names = ['Friend1', 'Friend2'] # Put your names here for faces to recognize\n",
        "  if len(sys.argv) < 2:\n",
        "    print(\"USAGE: facerec_demo.py </path/to/images> [</path/to/store/images/at>]\")\n",
        "    sys.exit()\n",
        "\n",
        "  [X, y] = read_images(\"dataset\", (200,200)) # modified sys.argv[1] to dataset path\n",
        "  y = np.asarray(y, dtype=np.int32)\n",
        "\n",
        "  model = cv2.face.EigenFaceRecognizer_create()\n",
        "  model.train(X, y)\n",
        "\n",
        "  camera = cv2.VideoCapture(0)\n",
        "  face_cascade = cv2.CascadeClassifier('haarcascade_frontalface_default.xml')\n",
        "\n",
        "  while True:\n",
        "    ret, img = camera.read()\n",
        "    if not ret:\n",
        "      break\n",
        "\n",
        "    faces = face_cascade.detectMultiScale(img, 1.3, 5)\n",
        "\n",
        "    for (x, y, w, h) in faces:\n",
        "      cv2.rectangle(img, (x, y), (x + w, y + h), (255, 0, 0), 2)\n",
        "      gray = cv2.cvtColor(img[y:y + h, x:x + w], cv2.COLOR_BGR2GRAY)\n",
        "      roi = cv2.resize(gray, (200, 200), interpolation=cv2.INTER_LINEAR)\n",
        "\n",
        "      try:\n",
        "        params = model.predict(roi)\n",
        "        label = names[params[0]]\n",
        "        cv2.putText(img, label + \", \" + str(params[1]), (x, y - 20), cv2.FONT_HERSHEY_SIMPLEX, 1, (255, 0, 0), 2)\n",
        "      except:\n",
        "        continue\n",
        "\n",
        "    cv2.imshow(\"camera\", img)\n",
        "    if cv2.waitKey(1) & 0xFF == ord(\"q\"):\n",
        "      break\n",
        "\n",
        "  camera.release()\n",
        "  cv2.destroyAllWindows()\n",
        "\n",
        "if __name__ == \"__main__\":\n",
        "  face_rec()"
      ]
    },
    {
      "cell_type": "markdown",
      "metadata": {
        "id": "iChhyN_Y4OH7"
      },
      "source": [
        "**Question: Provide an analysis of the sample script for the process using the Eigenface Model. What is the sample code doing? Are you able to troubleshoot any problems encountered?**"
      ]
    },
    {
      "cell_type": "markdown",
      "metadata": {
        "id": "-dL7n-mc5JO6"
      },
      "source": [
        "---\n",
        "Perform the remaining face recognition techniques by using the same (or modified) process from the sample code:\n",
        "\n",
        "- `model = cv2.face.createFisherFaceRecognizer()`\n",
        "- `model = cv2.face.createLBPHFaceRecognizer()`"
      ]
    },
    {
      "cell_type": "markdown",
      "metadata": {
        "id": "gb6Zeh9S5Y1o"
      },
      "source": [
        "**Question: The `predict()` method returns a two-element array. Provide your analysis of the two returned values and their important ince this application.**"
      ]
    },
    {
      "cell_type": "markdown",
      "metadata": {
        "id": "Mkyd0KjtGl79"
      },
      "source": [
        "## 4. Supplementary Activity"
      ]
    },
    {
      "cell_type": "markdown",
      "metadata": {
        "id": "Zgo4nuQt506X"
      },
      "source": [
        "Your accomplisment of the tasks below contribute to the achievement of ILO1, ILO2, and ILO3 for this module.\n",
        "\n",
        "---\n",
        "\n",
        "Tasks:\n",
        "1. Create a new dataset for testing, this dataset must include the following:\n",
        "  - The same person/s that the model has to recognize.\n",
        "  - Different person/s that the model should not recognize.\n",
        "2. For each model, perform 20 tests. Document the testing performed and provide observations.\n",
        "3. Conclude on the performed tests by providing your evaluation of the performance of the models."
      ]
    },
    {
      "cell_type": "code",
      "execution_count": null,
      "metadata": {
        "id": "JrXA8Hsl8ts0"
      },
      "outputs": [],
      "source": [
        "def face_recEigen():\n",
        "  names = ['Recognized', 'Unrecognized'] # Put your names here for faces to recognize\n",
        "  if len(sys.argv) < 2:\n",
        "    print(\"USAGE: facerec_demo.py </path/to/images> [</path/to/store/images/at>]\")\n",
        "    sys.exit()\n",
        "\n",
        "  [X, y] = read_images(\"dataset\", (200,200)) # modified sys.argv[1] to dataset path\n",
        "  y = np.asarray(y, dtype=np.int32)\n",
        "\n",
        "  model = cv2.face.EigenFaceRecognizer_create()\n",
        "  model.train(X, y)\n",
        "\n",
        "  camera = cv2.VideoCapture(0)\n",
        "  face_cascade = cv2.CascadeClassifier('haarcascade_frontalface_default.xml')\n",
        "\n",
        "  while True:\n",
        "    ret, img = camera.read()\n",
        "    if not ret:\n",
        "      break\n",
        "\n",
        "    faces = face_cascade.detectMultiScale(img, 1.3, 5)\n",
        "\n",
        "    for (x, y, w, h) in faces:\n",
        "      cv2.rectangle(img, (x, y), (x + w, y + h), (255, 0, 0), 2)\n",
        "      gray = cv2.cvtColor(img[y:y + h, x:x + w], cv2.COLOR_BGR2GRAY)\n",
        "      roi = cv2.resize(gray, (200, 200), interpolation=cv2.INTER_LINEAR)\n",
        "\n",
        "      try:\n",
        "        params = model.predict(roi)\n",
        "        label = names[params[0]]\n",
        "        cv2.putText(img, label + \", \" + str(params[1]), (x, y - 20), cv2.FONT_HERSHEY_SIMPLEX, 1, (255, 0, 0), 2)\n",
        "      except:\n",
        "        continue\n",
        "\n",
        "    cv2.imshow(\"camera\", img)\n",
        "    if cv2.waitKey(1) & 0xFF == ord(\"q\"):\n",
        "      break\n",
        "\n",
        "  camera.release()\n",
        "  cv2.destroyAllWindows()\n",
        "\n",
        "if __name__ == \"__main__\":\n",
        "  face_recEigen()"
      ]
    },
    {
      "cell_type": "code",
      "execution_count": null,
      "metadata": {
        "id": "TKeHdPBp8ts1"
      },
      "outputs": [],
      "source": [
        "def face_recFisher():\n",
        "  names = ['Recognized', 'Unrecognized'] # Put your names here for faces to recognize\n",
        "  if len(sys.argv) < 2:\n",
        "    print(\"USAGE: facerec_demo.py </path/to/images> [</path/to/store/images/at>]\")\n",
        "    sys.exit()\n",
        "\n",
        "  [X, y] = read_images(\"dataset\", (200,200)) # modified sys.argv[1] to dataset path\n",
        "  y = np.asarray(y, dtype=np.int32)\n",
        "\n",
        "  model = cv2.face.FisherFaceRecognizer_create()\n",
        "  model.train(X, y)\n",
        "\n",
        "  camera = cv2.VideoCapture(0)\n",
        "  face_cascade = cv2.CascadeClassifier('haarcascade_frontalface_default.xml')\n",
        "\n",
        "  while True:\n",
        "    ret, img = camera.read()\n",
        "    if not ret:\n",
        "      break\n",
        "\n",
        "    faces = face_cascade.detectMultiScale(img, 1.3, 5)\n",
        "\n",
        "    for (x, y, w, h) in faces:\n",
        "      cv2.rectangle(img, (x, y), (x + w, y + h), (255, 0, 0), 2)\n",
        "      gray = cv2.cvtColor(img[y:y + h, x:x + w], cv2.COLOR_BGR2GRAY)\n",
        "      roi = cv2.resize(gray, (200, 200), interpolation=cv2.INTER_LINEAR)\n",
        "\n",
        "      try:\n",
        "        params = model.predict(roi)\n",
        "        label = names[params[0]]\n",
        "        cv2.putText(img, label + \", \" + str(params[1]), (x, y - 20), cv2.FONT_HERSHEY_SIMPLEX, 1, (255, 0, 0), 2)\n",
        "      except:\n",
        "        continue\n",
        "\n",
        "    cv2.imshow(\"camera\", img)\n",
        "    if cv2.waitKey(1) & 0xFF == ord(\"q\"):\n",
        "      break\n",
        "\n",
        "  camera.release()\n",
        "  cv2.destroyAllWindows()\n",
        "\n",
        "if __name__ == \"__main__\":\n",
        "  face_recFisher()"
      ]
    },
    {
      "cell_type": "code",
      "execution_count": null,
      "metadata": {
        "id": "PUu_bMdT8ts1"
      },
      "outputs": [],
      "source": [
        "def face_recLBPH():\n",
        "  names = ['Recognized', 'Unrecognized'] # Put your names here for faces to recognize\n",
        "  if len(sys.argv) < 2:\n",
        "    print(\"USAGE: facerec_demo.py </path/to/images> [</path/to/store/images/at>]\")\n",
        "    sys.exit()\n",
        "\n",
        "  [X, y] = read_images(\"dataset\", (200,200)) # modified sys.argv[1] to dataset path\n",
        "  y = np.asarray(y, dtype=np.int32)\n",
        "\n",
        "  model = cv2.face.LBPHFaceRecognizer_create()\n",
        "  model.train(X, y)\n",
        "\n",
        "  camera = cv2.VideoCapture(0)\n",
        "  face_cascade = cv2.CascadeClassifier('haarcascade_frontalface_default.xml')\n",
        "\n",
        "  while True:\n",
        "    ret, img = camera.read()\n",
        "    if not ret:\n",
        "      break\n",
        "\n",
        "    faces = face_cascade.detectMultiScale(img, 1.3, 5)\n",
        "\n",
        "    for (x, y, w, h) in faces:\n",
        "      cv2.rectangle(img, (x, y), (x + w, y + h), (255, 0, 0), 2)\n",
        "      gray = cv2.cvtColor(img[y:y + h, x:x + w], cv2.COLOR_BGR2GRAY)\n",
        "      roi = cv2.resize(gray, (200, 200), interpolation=cv2.INTER_LINEAR)\n",
        "\n",
        "      try:\n",
        "        params = model.predict(roi)\n",
        "        label = names[params[0]]\n",
        "        cv2.putText(img, label + \", \" + str(params[1]), (x, y - 20), cv2.FONT_HERSHEY_SIMPLEX, 1, (255, 0, 0), 2)\n",
        "      except:\n",
        "        continue\n",
        "\n",
        "    cv2.imshow(\"camera\", img)\n",
        "    if cv2.waitKey(1) & 0xFF == ord(\"q\"):\n",
        "      break\n",
        "\n",
        "  camera.release()\n",
        "  cv2.destroyAllWindows()\n",
        "\n",
        "if __name__ == \"__main__\":\n",
        "  face_recLBPH()"
      ]
    },
    {
      "cell_type": "markdown",
      "metadata": {
        "id": "vWU3bLmN8ts1"
      },
      "source": [
        "Results of Testing: https://docs.google.com/document/d/1K6Y8UySMpq3DYv3efkCwx22n-dL1zuFjb4gs6FZqH14/edit?usp=sharing"
      ]
    },
    {
      "cell_type": "markdown",
      "metadata": {
        "id": "KQspxP0IGoO1"
      },
      "source": [
        "## 5. Summary, Conclusions and Lessons Learned"
      ]
    },
    {
      "cell_type": "markdown",
      "metadata": {
        "id": "KvcmGICAoj1a"
      },
      "source": [
        "In this activity i learned how to do a face recognition model with the knowledge from face detection i was able to do it smoothly but the creating a dataset seems so hard as i need to take pictures from all angles in order to have accurate results in which i was able to create. there are many models you can use to create face recognition program and each model have its own strength and weaknesses as evident of the results where the their accuracy varies."
      ]
    },
    {
      "cell_type": "markdown",
      "metadata": {
        "id": "EqlVIPSqolAC"
      },
      "source": [
        "<hr/>\n",
        "\n",
        "***Proprietary Clause***\n",
        "\n",
        "*Property of the Technological Institute of the Philippines (T.I.P.). No part of the materials made and uploaded in this learning management system by T.I.P. may be copied, photographed, printed, reproduced, shared, transmitted, translated, or reduced to any electronic medium or machine-readable form, in whole or in part, without the prior consent of T.I.P.*"
      ]
    }
  ],
  "metadata": {
    "colab": {
      "collapsed_sections": [
        "ElMxAUPJGYLw",
        "X-RNZovNGV9k",
        "Mkyd0KjtGl79",
        "KQspxP0IGoO1"
      ],
      "provenance": [],
      "include_colab_link": true
    },
    "kernelspec": {
      "display_name": "Python 3",
      "name": "python3"
    },
    "language_info": {
      "codemirror_mode": {
        "name": "ipython",
        "version": 3
      },
      "file_extension": ".py",
      "mimetype": "text/x-python",
      "name": "python",
      "nbconvert_exporter": "python",
      "pygments_lexer": "ipython3",
      "version": "3.11.9"
    }
  },
  "nbformat": 4,
  "nbformat_minor": 0
}